{
 "cells": [
  {
   "cell_type": "markdown",
   "metadata": {
    "collapsed": true,
    "deletable": true,
    "editable": true
   },
   "source": [
    "# Language Translation\n",
    "In this project, you’re going to take a peek into the realm of neural network machine translation.  You’ll be training a sequence to sequence model on a dataset of English and French sentences that can translate new sentences from English to French.\n",
    "## Get the Data\n",
    "Since translating the whole language of English to French will take lots of time to train, we have provided you with a small portion of the English corpus."
   ]
  },
  {
   "cell_type": "code",
   "execution_count": 1,
   "metadata": {
    "collapsed": true,
    "deletable": true,
    "editable": true
   },
   "outputs": [],
   "source": [
    "\"\"\"\n",
    "DON'T MODIFY ANYTHING IN THIS CELL\n",
    "\"\"\"\n",
    "import helper\n",
    "import problem_unittests as tests\n",
    "\n",
    "source_path = 'data/small_vocab_en'\n",
    "target_path = 'data/small_vocab_fr'\n",
    "source_text = helper.load_data(source_path)\n",
    "target_text = helper.load_data(target_path)"
   ]
  },
  {
   "cell_type": "markdown",
   "metadata": {
    "deletable": true,
    "editable": true
   },
   "source": [
    "## Explore the Data\n",
    "Play around with view_sentence_range to view different parts of the data."
   ]
  },
  {
   "cell_type": "code",
   "execution_count": 2,
   "metadata": {
    "collapsed": false,
    "deletable": true,
    "editable": true
   },
   "outputs": [
    {
     "name": "stdout",
     "output_type": "stream",
     "text": [
      "Dataset Stats\n",
      "Roughly the number of unique words: 227\n",
      "Number of sentences: 137861\n",
      "Average number of words in a sentence: 13.225277634719028\n",
      "\n",
      "English sentences 0 to 10:\n",
      "new jersey is sometimes quiet during autumn , and it is snowy in april .\n",
      "the united states is usually chilly during july , and it is usually freezing in november .\n",
      "california is usually quiet during march , and it is usually hot in june .\n",
      "the united states is sometimes mild during june , and it is cold in september .\n",
      "your least liked fruit is the grape , but my least liked is the apple .\n",
      "his favorite fruit is the orange , but my favorite is the grape .\n",
      "paris is relaxing during december , but it is usually chilly in july .\n",
      "new jersey is busy during spring , and it is never hot in march .\n",
      "our least liked fruit is the lemon , but my least liked is the grape .\n",
      "the united states is sometimes busy during january , and it is sometimes warm in november .\n",
      "\n",
      "French sentences 0 to 10:\n",
      "new jersey est parfois calme pendant l' automne , et il est neigeux en avril .\n",
      "les états-unis est généralement froid en juillet , et il gèle habituellement en novembre .\n",
      "california est généralement calme en mars , et il est généralement chaud en juin .\n",
      "les états-unis est parfois légère en juin , et il fait froid en septembre .\n",
      "votre moins aimé fruit est le raisin , mais mon moins aimé est la pomme .\n",
      "son fruit préféré est l'orange , mais mon préféré est le raisin .\n",
      "paris est relaxant en décembre , mais il est généralement froid en juillet .\n",
      "new jersey est occupé au printemps , et il est jamais chaude en mars .\n",
      "notre fruit est moins aimé le citron , mais mon moins aimé est le raisin .\n",
      "les états-unis est parfois occupé en janvier , et il est parfois chaud en novembre .\n"
     ]
    }
   ],
   "source": [
    "view_sentence_range = (0, 10)\n",
    "\n",
    "\"\"\"\n",
    "DON'T MODIFY ANYTHING IN THIS CELL\n",
    "\"\"\"\n",
    "import numpy as np\n",
    "\n",
    "print('Dataset Stats')\n",
    "print('Roughly the number of unique words: {}'.format(len({word: None for word in source_text.split()})))\n",
    "\n",
    "sentences = source_text.split('\\n')\n",
    "word_counts = [len(sentence.split()) for sentence in sentences]\n",
    "print('Number of sentences: {}'.format(len(sentences)))\n",
    "print('Average number of words in a sentence: {}'.format(np.average(word_counts)))\n",
    "\n",
    "print()\n",
    "print('English sentences {} to {}:'.format(*view_sentence_range))\n",
    "print('\\n'.join(source_text.split('\\n')[view_sentence_range[0]:view_sentence_range[1]]))\n",
    "print()\n",
    "print('French sentences {} to {}:'.format(*view_sentence_range))\n",
    "print('\\n'.join(target_text.split('\\n')[view_sentence_range[0]:view_sentence_range[1]]))"
   ]
  },
  {
   "cell_type": "markdown",
   "metadata": {
    "deletable": true,
    "editable": true
   },
   "source": [
    "## Implement Preprocessing Function\n",
    "### Text to Word Ids\n",
    "As you did with other RNNs, you must turn the text into a number so the computer can understand it. In the function `text_to_ids()`, you'll turn `source_text` and `target_text` from words to ids.  However, you need to add the `<EOS>` word id at the end of `target_text`.  This will help the neural network predict when the sentence should end.\n",
    "\n",
    "You can get the `<EOS>` word id by doing:\n",
    "```python\n",
    "target_vocab_to_int['<EOS>']\n",
    "```\n",
    "You can get other word ids using `source_vocab_to_int` and `target_vocab_to_int`."
   ]
  },
  {
   "cell_type": "code",
   "execution_count": 3,
   "metadata": {
    "collapsed": false,
    "deletable": true,
    "editable": true
   },
   "outputs": [
    {
     "name": "stdout",
     "output_type": "stream",
     "text": [
      "Tests Passed\n"
     ]
    }
   ],
   "source": [
    "def text_to_ids(source_text, target_text, source_vocab_to_int, target_vocab_to_int):\n",
    "    \"\"\"\n",
    "    Convert source and target text to proper word ids\n",
    "    :param source_text: String that contains all the source text.\n",
    "    :param target_text: String that contains all the target text.\n",
    "    :param source_vocab_to_int: Dictionary to go from the source words to an id\n",
    "    :param target_vocab_to_int: Dictionary to go from the target words to an id\n",
    "    :return: A tuple of lists (source_id_text, target_id_text)\n",
    "    \"\"\"\n",
    "    source_sentences = source_text.split('\\n')\n",
    "    #print(source_sentences)\n",
    "    source_id_text = [[source_vocab_to_int[word] for word in sentence.split()] for sentence in source_sentences]\n",
    "    #print(source_id_text)\n",
    "    target_sentences = [sentence + \" <EOS>\" for sentence in target_text.split('\\n')]\n",
    "    target_id_text = [[target_vocab_to_int[word] for word in sentence.split()] for sentence in target_sentences]\n",
    "    \n",
    "    return source_id_text, target_id_text\n",
    "\n",
    "\"\"\"\n",
    "DON'T MODIFY ANYTHING IN THIS CELL THAT IS BELOW THIS LINE\n",
    "\"\"\"\n",
    "tests.test_text_to_ids(text_to_ids)"
   ]
  },
  {
   "cell_type": "markdown",
   "metadata": {
    "deletable": true,
    "editable": true
   },
   "source": [
    "### Preprocess all the data and save it\n",
    "Running the code cell below will preprocess all the data and save it to file."
   ]
  },
  {
   "cell_type": "code",
   "execution_count": 4,
   "metadata": {
    "collapsed": true,
    "deletable": true,
    "editable": true
   },
   "outputs": [],
   "source": [
    "\"\"\"\n",
    "DON'T MODIFY ANYTHING IN THIS CELL\n",
    "\"\"\"\n",
    "helper.preprocess_and_save_data(source_path, target_path, text_to_ids)"
   ]
  },
  {
   "cell_type": "markdown",
   "metadata": {
    "deletable": true,
    "editable": true
   },
   "source": [
    "# Check Point\n",
    "This is your first checkpoint. If you ever decide to come back to this notebook or have to restart the notebook, you can start from here. The preprocessed data has been saved to disk."
   ]
  },
  {
   "cell_type": "code",
   "execution_count": 5,
   "metadata": {
    "collapsed": true,
    "deletable": true,
    "editable": true
   },
   "outputs": [],
   "source": [
    "\"\"\"\n",
    "DON'T MODIFY ANYTHING IN THIS CELL\n",
    "\"\"\"\n",
    "import numpy as np\n",
    "import helper\n",
    "import problem_unittests as tests\n",
    "\n",
    "(source_int_text, target_int_text), (source_vocab_to_int, target_vocab_to_int), _ = helper.load_preprocess()"
   ]
  },
  {
   "cell_type": "markdown",
   "metadata": {
    "deletable": true,
    "editable": true
   },
   "source": [
    "### Check the Version of TensorFlow and Access to GPU\n",
    "This will check to make sure you have the correct version of TensorFlow and access to a GPU"
   ]
  },
  {
   "cell_type": "code",
   "execution_count": 6,
   "metadata": {
    "collapsed": false,
    "deletable": true,
    "editable": true
   },
   "outputs": [
    {
     "name": "stdout",
     "output_type": "stream",
     "text": [
      "TensorFlow Version: 1.2.1\n",
      "Default GPU Device: /gpu:0\n"
     ]
    }
   ],
   "source": [
    "\"\"\"\n",
    "DON'T MODIFY ANYTHING IN THIS CELL\n",
    "\"\"\"\n",
    "from distutils.version import LooseVersion\n",
    "import warnings\n",
    "import tensorflow as tf\n",
    "from tensorflow.python.layers.core import Dense\n",
    "\n",
    "# Check TensorFlow Version\n",
    "assert LooseVersion(tf.__version__) >= LooseVersion('1.1'), 'Please use TensorFlow version 1.1 or newer'\n",
    "print('TensorFlow Version: {}'.format(tf.__version__))\n",
    "\n",
    "# Check for a GPU\n",
    "if not tf.test.gpu_device_name():\n",
    "    warnings.warn('No GPU found. Please use a GPU to train your neural network.')\n",
    "else:\n",
    "    print('Default GPU Device: {}'.format(tf.test.gpu_device_name()))"
   ]
  },
  {
   "cell_type": "markdown",
   "metadata": {
    "deletable": true,
    "editable": true
   },
   "source": [
    "## Build the Neural Network\n",
    "You'll build the components necessary to build a Sequence-to-Sequence model by implementing the following functions below:\n",
    "- `model_inputs`\n",
    "- `process_decoder_input`\n",
    "- `encoding_layer`\n",
    "- `decoding_layer_train`\n",
    "- `decoding_layer_infer`\n",
    "- `decoding_layer`\n",
    "- `seq2seq_model`\n",
    "\n",
    "### Input\n",
    "Implement the `model_inputs()` function to create TF Placeholders for the Neural Network. It should create the following placeholders:\n",
    "\n",
    "- Input text placeholder named \"input\" using the TF Placeholder name parameter with rank 2.\n",
    "- Targets placeholder with rank 2.\n",
    "- Learning rate placeholder with rank 0.\n",
    "- Keep probability placeholder named \"keep_prob\" using the TF Placeholder name parameter with rank 0.\n",
    "- Target sequence length placeholder named \"target_sequence_length\" with rank 1\n",
    "- Max target sequence length tensor named \"max_target_len\" getting its value from applying tf.reduce_max on the target_sequence_length placeholder. Rank 0.\n",
    "- Source sequence length placeholder named \"source_sequence_length\" with rank 1\n",
    "\n",
    "Return the placeholders in the following the tuple (input, targets, learning rate, keep probability, target sequence length, max target sequence length, source sequence length)"
   ]
  },
  {
   "cell_type": "code",
   "execution_count": 7,
   "metadata": {
    "collapsed": false,
    "deletable": true,
    "editable": true
   },
   "outputs": [
    {
     "name": "stdout",
     "output_type": "stream",
     "text": [
      "ERROR:tensorflow:==================================\n",
      "Object was never used (type <class 'tensorflow.python.framework.ops.Operation'>):\n",
      "<tf.Operation 'assert_rank_2/Assert/Assert' type=Assert>\n",
      "If you want to mark it as used call its \"mark_used()\" method.\n",
      "It was originally created here:\n",
      "['File \"/anaconda/envs/py35/lib/python3.5/runpy.py\", line 184, in _run_module_as_main\\n    \"__main__\", mod_spec)', 'File \"/anaconda/envs/py35/lib/python3.5/runpy.py\", line 85, in _run_code\\n    exec(code, run_globals)', 'File \"/anaconda/envs/py35/lib/python3.5/site-packages/ipykernel_launcher.py\", line 16, in <module>\\n    app.launch_new_instance()', 'File \"/anaconda/envs/py35/lib/python3.5/site-packages/traitlets/config/application.py\", line 658, in launch_instance\\n    app.start()', 'File \"/anaconda/envs/py35/lib/python3.5/site-packages/ipykernel/kernelapp.py\", line 477, in start\\n    ioloop.IOLoop.instance().start()', 'File \"/anaconda/envs/py35/lib/python3.5/site-packages/zmq/eventloop/ioloop.py\", line 177, in start\\n    super(ZMQIOLoop, self).start()', 'File \"/anaconda/envs/py35/lib/python3.5/site-packages/tornado/ioloop.py\", line 888, in start\\n    handler_func(fd_obj, events)', 'File \"/anaconda/envs/py35/lib/python3.5/site-packages/tornado/stack_context.py\", line 277, in null_wrapper\\n    return fn(*args, **kwargs)', 'File \"/anaconda/envs/py35/lib/python3.5/site-packages/zmq/eventloop/zmqstream.py\", line 440, in _handle_events\\n    self._handle_recv()', 'File \"/anaconda/envs/py35/lib/python3.5/site-packages/zmq/eventloop/zmqstream.py\", line 472, in _handle_recv\\n    self._run_callback(callback, msg)', 'File \"/anaconda/envs/py35/lib/python3.5/site-packages/zmq/eventloop/zmqstream.py\", line 414, in _run_callback\\n    callback(*args, **kwargs)', 'File \"/anaconda/envs/py35/lib/python3.5/site-packages/tornado/stack_context.py\", line 277, in null_wrapper\\n    return fn(*args, **kwargs)', 'File \"/anaconda/envs/py35/lib/python3.5/site-packages/ipykernel/kernelbase.py\", line 283, in dispatcher\\n    return self.dispatch_shell(stream, msg)', 'File \"/anaconda/envs/py35/lib/python3.5/site-packages/ipykernel/kernelbase.py\", line 235, in dispatch_shell\\n    handler(stream, idents, msg)', 'File \"/anaconda/envs/py35/lib/python3.5/site-packages/ipykernel/kernelbase.py\", line 399, in execute_request\\n    user_expressions, allow_stdin)', 'File \"/anaconda/envs/py35/lib/python3.5/site-packages/ipykernel/ipkernel.py\", line 196, in do_execute\\n    res = shell.run_cell(code, store_history=store_history, silent=silent)', 'File \"/anaconda/envs/py35/lib/python3.5/site-packages/ipykernel/zmqshell.py\", line 533, in run_cell\\n    return super(ZMQInteractiveShell, self).run_cell(*args, **kwargs)', 'File \"/anaconda/envs/py35/lib/python3.5/site-packages/IPython/core/interactiveshell.py\", line 2723, in run_cell\\n    interactivity=interactivity, compiler=compiler, result=result)', 'File \"/anaconda/envs/py35/lib/python3.5/site-packages/IPython/core/interactiveshell.py\", line 2831, in run_ast_nodes\\n    if self.run_code(code, result):', 'File \"/anaconda/envs/py35/lib/python3.5/site-packages/IPython/core/interactiveshell.py\", line 2885, in run_code\\n    exec(code_obj, self.user_global_ns, self.user_ns)', 'File \"<ipython-input-7-dda882cfde97>\", line 23, in <module>\\n    tests.test_model_inputs(model_inputs)', 'File \"/home/yassermakram/projects/dlnd/deep-learning/language-translation/problem_unittests.py\", line 106, in test_model_inputs\\n    assert tf.assert_rank(lr, 0, message=\\'Learning Rate has wrong rank\\')', 'File \"/anaconda/envs/py35/lib/python3.5/site-packages/tensorflow/python/ops/check_ops.py\", line 617, in assert_rank\\n    dynamic_condition, data, summarize)', 'File \"/anaconda/envs/py35/lib/python3.5/site-packages/tensorflow/python/ops/check_ops.py\", line 571, in _assert_rank_condition\\n    return control_flow_ops.Assert(condition, data, summarize=summarize)', 'File \"/anaconda/envs/py35/lib/python3.5/site-packages/tensorflow/python/util/tf_should_use.py\", line 170, in wrapped\\n    return _add_should_use_warning(fn(*args, **kwargs))', 'File \"/anaconda/envs/py35/lib/python3.5/site-packages/tensorflow/python/util/tf_should_use.py\", line 139, in _add_should_use_warning\\n    wrapped = TFShouldUseWarningWrapper(x)', 'File \"/anaconda/envs/py35/lib/python3.5/site-packages/tensorflow/python/util/tf_should_use.py\", line 96, in __init__\\n    stack = [s.strip() for s in traceback.format_stack()]']\n",
      "==================================\n",
      "ERROR:tensorflow:==================================\n",
      "Object was never used (type <class 'tensorflow.python.framework.ops.Operation'>):\n",
      "<tf.Operation 'assert_rank_3/Assert/Assert' type=Assert>\n",
      "If you want to mark it as used call its \"mark_used()\" method.\n",
      "It was originally created here:\n",
      "['File \"/anaconda/envs/py35/lib/python3.5/runpy.py\", line 184, in _run_module_as_main\\n    \"__main__\", mod_spec)', 'File \"/anaconda/envs/py35/lib/python3.5/runpy.py\", line 85, in _run_code\\n    exec(code, run_globals)', 'File \"/anaconda/envs/py35/lib/python3.5/site-packages/ipykernel_launcher.py\", line 16, in <module>\\n    app.launch_new_instance()', 'File \"/anaconda/envs/py35/lib/python3.5/site-packages/traitlets/config/application.py\", line 658, in launch_instance\\n    app.start()', 'File \"/anaconda/envs/py35/lib/python3.5/site-packages/ipykernel/kernelapp.py\", line 477, in start\\n    ioloop.IOLoop.instance().start()', 'File \"/anaconda/envs/py35/lib/python3.5/site-packages/zmq/eventloop/ioloop.py\", line 177, in start\\n    super(ZMQIOLoop, self).start()', 'File \"/anaconda/envs/py35/lib/python3.5/site-packages/tornado/ioloop.py\", line 888, in start\\n    handler_func(fd_obj, events)', 'File \"/anaconda/envs/py35/lib/python3.5/site-packages/tornado/stack_context.py\", line 277, in null_wrapper\\n    return fn(*args, **kwargs)', 'File \"/anaconda/envs/py35/lib/python3.5/site-packages/zmq/eventloop/zmqstream.py\", line 440, in _handle_events\\n    self._handle_recv()', 'File \"/anaconda/envs/py35/lib/python3.5/site-packages/zmq/eventloop/zmqstream.py\", line 472, in _handle_recv\\n    self._run_callback(callback, msg)', 'File \"/anaconda/envs/py35/lib/python3.5/site-packages/zmq/eventloop/zmqstream.py\", line 414, in _run_callback\\n    callback(*args, **kwargs)', 'File \"/anaconda/envs/py35/lib/python3.5/site-packages/tornado/stack_context.py\", line 277, in null_wrapper\\n    return fn(*args, **kwargs)', 'File \"/anaconda/envs/py35/lib/python3.5/site-packages/ipykernel/kernelbase.py\", line 283, in dispatcher\\n    return self.dispatch_shell(stream, msg)', 'File \"/anaconda/envs/py35/lib/python3.5/site-packages/ipykernel/kernelbase.py\", line 235, in dispatch_shell\\n    handler(stream, idents, msg)', 'File \"/anaconda/envs/py35/lib/python3.5/site-packages/ipykernel/kernelbase.py\", line 399, in execute_request\\n    user_expressions, allow_stdin)', 'File \"/anaconda/envs/py35/lib/python3.5/site-packages/ipykernel/ipkernel.py\", line 196, in do_execute\\n    res = shell.run_cell(code, store_history=store_history, silent=silent)', 'File \"/anaconda/envs/py35/lib/python3.5/site-packages/ipykernel/zmqshell.py\", line 533, in run_cell\\n    return super(ZMQInteractiveShell, self).run_cell(*args, **kwargs)', 'File \"/anaconda/envs/py35/lib/python3.5/site-packages/IPython/core/interactiveshell.py\", line 2723, in run_cell\\n    interactivity=interactivity, compiler=compiler, result=result)', 'File \"/anaconda/envs/py35/lib/python3.5/site-packages/IPython/core/interactiveshell.py\", line 2831, in run_ast_nodes\\n    if self.run_code(code, result):', 'File \"/anaconda/envs/py35/lib/python3.5/site-packages/IPython/core/interactiveshell.py\", line 2885, in run_code\\n    exec(code_obj, self.user_global_ns, self.user_ns)', 'File \"<ipython-input-7-dda882cfde97>\", line 23, in <module>\\n    tests.test_model_inputs(model_inputs)', 'File \"/home/yassermakram/projects/dlnd/deep-learning/language-translation/problem_unittests.py\", line 107, in test_model_inputs\\n    assert tf.assert_rank(keep_prob, 0, message=\\'Keep Probability has wrong rank\\')', 'File \"/anaconda/envs/py35/lib/python3.5/site-packages/tensorflow/python/ops/check_ops.py\", line 617, in assert_rank\\n    dynamic_condition, data, summarize)', 'File \"/anaconda/envs/py35/lib/python3.5/site-packages/tensorflow/python/ops/check_ops.py\", line 571, in _assert_rank_condition\\n    return control_flow_ops.Assert(condition, data, summarize=summarize)', 'File \"/anaconda/envs/py35/lib/python3.5/site-packages/tensorflow/python/util/tf_should_use.py\", line 170, in wrapped\\n    return _add_should_use_warning(fn(*args, **kwargs))', 'File \"/anaconda/envs/py35/lib/python3.5/site-packages/tensorflow/python/util/tf_should_use.py\", line 139, in _add_should_use_warning\\n    wrapped = TFShouldUseWarningWrapper(x)', 'File \"/anaconda/envs/py35/lib/python3.5/site-packages/tensorflow/python/util/tf_should_use.py\", line 96, in __init__\\n    stack = [s.strip() for s in traceback.format_stack()]']\n",
      "==================================\n",
      "Tests Passed\n"
     ]
    }
   ],
   "source": [
    "def model_inputs():\n",
    "    \"\"\"\n",
    "    Create TF Placeholders for input, targets, learning rate, and lengths of source and target sequences.\n",
    "    :return: Tuple (input, targets, learning rate, keep probability, target sequence length,\n",
    "    max target sequence length, source sequence length)\n",
    "    \"\"\"\n",
    "    inputs = tf.placeholder(tf.int32, [None, None], name=\"input\")\n",
    "    targets = tf.placeholder(tf.int32, [None, None], name=\"target\")\n",
    "\n",
    "    learning_rate = tf.placeholder(tf.float32, name=\"learning_rate\")\n",
    "    keep_prob = tf.placeholder(tf.float32, name=\"keep_prob\")\n",
    "\n",
    "    target_seq_length = tf.placeholder(tf.int32, (None,), name=\"target_sequence_length\")\n",
    "    max_target_length = tf.reduce_max(target_seq_length, name=\"max_target_length\")\n",
    "    source_seq_length = tf.placeholder(tf.int32, (None,), name=\"source_sequence_length\")\n",
    "\n",
    "    return inputs, targets, learning_rate, keep_prob, target_seq_length, max_target_length, source_seq_length\n",
    "\n",
    "\n",
    "\"\"\"\n",
    "DON'T MODIFY ANYTHING IN THIS CELL THAT IS BELOW THIS LINE\n",
    "\"\"\"\n",
    "tests.test_model_inputs(model_inputs)"
   ]
  },
  {
   "cell_type": "markdown",
   "metadata": {
    "deletable": true,
    "editable": true
   },
   "source": [
    "### Process Decoder Input\n",
    "Implement `process_decoder_input` by removing the last word id from each batch in `target_data` and concat the GO ID to the begining of each batch."
   ]
  },
  {
   "cell_type": "code",
   "execution_count": 8,
   "metadata": {
    "collapsed": false,
    "deletable": true,
    "editable": true
   },
   "outputs": [
    {
     "name": "stdout",
     "output_type": "stream",
     "text": [
      "Tests Passed\n"
     ]
    }
   ],
   "source": [
    "def process_decoder_input(target_data, target_vocab_to_int, batch_size):\n",
    "    \"\"\"\n",
    "    Preprocess target data for encoding\n",
    "    :param target_data: Target Placehoder\n",
    "    :param target_vocab_to_int: Dictionary to go from the target words to an id\n",
    "    :param batch_size: Batch Size\n",
    "    :return: Preprocessed target data\n",
    "    \"\"\"\n",
    "    decoder_input = tf.strided_slice(target_data, [0,0], [batch_size, -1], [1,1])\n",
    "    decoder_input = tf.concat([tf.fill([batch_size, 1], target_vocab_to_int['<GO>']), decoder_input], 1)\n",
    "    return decoder_input\n",
    "\n",
    "\"\"\"\n",
    "DON'T MODIFY ANYTHING IN THIS CELL THAT IS BELOW THIS LINE\n",
    "\"\"\"\n",
    "tests.test_process_encoding_input(process_decoder_input)"
   ]
  },
  {
   "cell_type": "markdown",
   "metadata": {
    "deletable": true,
    "editable": true
   },
   "source": [
    "### Encoding\n",
    "Implement `encoding_layer()` to create a Encoder RNN layer:\n",
    " * Embed the encoder input using [`tf.contrib.layers.embed_sequence`](https://www.tensorflow.org/api_docs/python/tf/contrib/layers/embed_sequence)\n",
    " * Construct a [stacked](https://github.com/tensorflow/tensorflow/blob/6947f65a374ebf29e74bb71e36fd82760056d82c/tensorflow/docs_src/tutorials/recurrent.md#stacking-multiple-lstms) [`tf.contrib.rnn.LSTMCell`](https://www.tensorflow.org/api_docs/python/tf/contrib/rnn/LSTMCell) wrapped in a [`tf.contrib.rnn.DropoutWrapper`](https://www.tensorflow.org/api_docs/python/tf/contrib/rnn/DropoutWrapper)\n",
    " * Pass cell and embedded input to [`tf.nn.dynamic_rnn()`](https://www.tensorflow.org/api_docs/python/tf/nn/dynamic_rnn)"
   ]
  },
  {
   "cell_type": "code",
   "execution_count": 9,
   "metadata": {
    "collapsed": false,
    "deletable": true,
    "editable": true,
    "scrolled": false
   },
   "outputs": [
    {
     "name": "stdout",
     "output_type": "stream",
     "text": [
      "Tests Passed\n"
     ]
    }
   ],
   "source": [
    "from imp import reload\n",
    "reload(tests)\n",
    "\n",
    "def encoding_layer(rnn_inputs, rnn_size, num_layers, keep_prob, \n",
    "                   source_sequence_length, source_vocab_size, \n",
    "                   encoding_embedding_size):\n",
    "    \"\"\"\n",
    "    Create encoding layer\n",
    "    :param rnn_inputs: Inputs for the RNN\n",
    "    :param rnn_size: RNN Size\n",
    "    :param num_layers: Number of layers\n",
    "    :param keep_prob: Dropout keep probability\n",
    "    :param source_sequence_length: a list of the lengths of each sequence in the batch\n",
    "    :param source_vocab_size: vocabulary size of source data\n",
    "    :param encoding_embedding_size: embedding size of source data\n",
    "    :return: tuple (RNN output, RNN state)\n",
    "    \"\"\"\n",
    "    embed = tf.contrib.layers.embed_sequence(rnn_inputs, source_vocab_size, encoding_embedding_size)\n",
    "\n",
    "    def lstm_cell(size):\n",
    "        cell = tf.contrib.rnn.LSTMCell(size,\n",
    "                                       initializer=tf.random_uniform_initializer(-0.1,0.1,seed=7))\n",
    "        dropout = tf.contrib.rnn.DropoutWrapper(cell, input_keep_prob=keep_prob)\n",
    "        return dropout\n",
    "    rnn_cell = tf.contrib.rnn.MultiRNNCell([lstm_cell(rnn_size) for _ in range(0, num_layers)])\n",
    "\n",
    "    rnn_out, rnn_state = tf.nn.dynamic_rnn(rnn_cell, embed, source_sequence_length, dtype=tf.float32)\n",
    "    return rnn_out, rnn_state\n",
    "\n",
    "\"\"\"\n",
    "DON'T MODIFY ANYTHING IN THIS CELL THAT IS BELOW THIS LINE\n",
    "\"\"\"\n",
    "tests.test_encoding_layer(encoding_layer)"
   ]
  },
  {
   "cell_type": "markdown",
   "metadata": {
    "deletable": true,
    "editable": true
   },
   "source": [
    "### Decoding - Training\n",
    "Create a training decoding layer:\n",
    "* Create a [`tf.contrib.seq2seq.TrainingHelper`](https://www.tensorflow.org/api_docs/python/tf/contrib/seq2seq/TrainingHelper) \n",
    "* Create a [`tf.contrib.seq2seq.BasicDecoder`](https://www.tensorflow.org/api_docs/python/tf/contrib/seq2seq/BasicDecoder)\n",
    "* Obtain the decoder outputs from [`tf.contrib.seq2seq.dynamic_decode`](https://www.tensorflow.org/api_docs/python/tf/contrib/seq2seq/dynamic_decode)"
   ]
  },
  {
   "cell_type": "code",
   "execution_count": 10,
   "metadata": {
    "collapsed": false,
    "deletable": true,
    "editable": true
   },
   "outputs": [
    {
     "name": "stdout",
     "output_type": "stream",
     "text": [
      "Tests Passed\n"
     ]
    }
   ],
   "source": [
    "\n",
    "def decoding_layer_train(encoder_state, dec_cell, dec_embed_input, \n",
    "                         target_sequence_length, max_summary_length, \n",
    "                         output_layer, keep_prob):\n",
    "    \"\"\"\n",
    "    Create a decoding layer for training\n",
    "    :param encoder_state: Encoder State\n",
    "    :param dec_cell: Decoder RNN Cell\n",
    "    :param dec_embed_input: Decoder embedded input\n",
    "    :param target_sequence_length: The lengths of each sequence in the target batch\n",
    "    :param max_summary_length: The length of the longest sequence in the batch\n",
    "    :param output_layer: Function to apply the output layer\n",
    "    :param keep_prob: Dropout keep probability\n",
    "    :return: BasicDecoderOutput containing training logits and sample_id\n",
    "    \"\"\"\n",
    "    helper = tf.contrib.seq2seq.TrainingHelper(dec_embed_input, target_sequence_length)\n",
    "\n",
    "    decoder = tf.contrib.seq2seq.BasicDecoder(dec_cell, helper, encoder_state, output_layer=output_layer)\n",
    "    decoder_out = tf.contrib.seq2seq.dynamic_decode(decoder, impute_finished=True, maximum_iterations=max_summary_length)\n",
    "    \n",
    "    return decoder_out[0]\n",
    "\n",
    "\n",
    "\n",
    "\"\"\"\n",
    "DON'T MODIFY ANYTHING IN THIS CELL THAT IS BELOW THIS LINE\n",
    "\"\"\"\n",
    "tests.test_decoding_layer_train(decoding_layer_train)"
   ]
  },
  {
   "cell_type": "markdown",
   "metadata": {
    "deletable": true,
    "editable": true
   },
   "source": [
    "### Decoding - Inference\n",
    "Create inference decoder:\n",
    "* Create a [`tf.contrib.seq2seq.GreedyEmbeddingHelper`](https://www.tensorflow.org/api_docs/python/tf/contrib/seq2seq/GreedyEmbeddingHelper)\n",
    "* Create a [`tf.contrib.seq2seq.BasicDecoder`](https://www.tensorflow.org/api_docs/python/tf/contrib/seq2seq/BasicDecoder)\n",
    "* Obtain the decoder outputs from [`tf.contrib.seq2seq.dynamic_decode`](https://www.tensorflow.org/api_docs/python/tf/contrib/seq2seq/dynamic_decode)"
   ]
  },
  {
   "cell_type": "code",
   "execution_count": 11,
   "metadata": {
    "collapsed": false,
    "deletable": true,
    "editable": true,
    "scrolled": true
   },
   "outputs": [
    {
     "name": "stdout",
     "output_type": "stream",
     "text": [
      "Tests Passed\n"
     ]
    }
   ],
   "source": [
    "def decoding_layer_infer(encoder_state, dec_cell, dec_embeddings, start_of_sequence_id,\n",
    "                         end_of_sequence_id, max_target_sequence_length,\n",
    "                         vocab_size, output_layer, batch_size, keep_prob):\n",
    "    \"\"\"\n",
    "    Create a decoding layer for inference\n",
    "    :param encoder_state: Encoder state\n",
    "    :param dec_cell: Decoder RNN Cell\n",
    "    :param dec_embeddings: Decoder embeddings\n",
    "    :param start_of_sequence_id: GO ID\n",
    "    :param end_of_sequence_id: EOS Id\n",
    "    :param max_target_sequence_length: Maximum length of target sequences\n",
    "    :param vocab_size: Size of decoder/target vocabulary\n",
    "    :param decoding_scope: TenorFlow Variable Scope for decoding\n",
    "    :param output_layer: Function to apply the output layer\n",
    "    :param batch_size: Batch size\n",
    "    :param keep_prob: Dropout keep probability\n",
    "    :return: BasicDecoderOutput containing inference logits and sample_id\n",
    "    \"\"\"\n",
    "    start_tokens = tf.tile(tf.constant([start_of_sequence_id], dtype=tf.int32), [batch_size])\n",
    "    helper = tf.contrib.seq2seq.GreedyEmbeddingHelper(dec_embeddings, start_tokens, end_of_sequence_id)\n",
    "\n",
    "    decoder = tf.contrib.seq2seq.BasicDecoder(dec_cell, helper, encoder_state, output_layer=output_layer)\n",
    "    decoder_out = tf.contrib.seq2seq.dynamic_decode(decoder, impute_finished=True, maximum_iterations=max_target_sequence_length)\n",
    "    \n",
    "    return decoder_out[0]\n",
    "\n",
    "\n",
    "\n",
    "\"\"\"\n",
    "DON'T MODIFY ANYTHING IN THIS CELL THAT IS BELOW THIS LINE\n",
    "\"\"\"\n",
    "tests.test_decoding_layer_infer(decoding_layer_infer)"
   ]
  },
  {
   "cell_type": "markdown",
   "metadata": {
    "deletable": true,
    "editable": true
   },
   "source": [
    "### Build the Decoding Layer\n",
    "Implement `decoding_layer()` to create a Decoder RNN layer.\n",
    "\n",
    "* Embed the target sequences\n",
    "* Construct the decoder LSTM cell (just like you constructed the encoder cell above)\n",
    "* Create an output layer to map the outputs of the decoder to the elements of our vocabulary\n",
    "* Use the your `decoding_layer_train(encoder_state, dec_cell, dec_embed_input, target_sequence_length, max_target_sequence_length, output_layer, keep_prob)` function to get the training logits.\n",
    "* Use your `decoding_layer_infer(encoder_state, dec_cell, dec_embeddings, start_of_sequence_id, end_of_sequence_id, max_target_sequence_length, vocab_size, output_layer, batch_size, keep_prob)` function to get the inference logits.\n",
    "\n",
    "Note: You'll need to use [tf.variable_scope](https://www.tensorflow.org/api_docs/python/tf/variable_scope) to share variables between training and inference."
   ]
  },
  {
   "cell_type": "code",
   "execution_count": 12,
   "metadata": {
    "collapsed": false,
    "deletable": true,
    "editable": true
   },
   "outputs": [
    {
     "name": "stdout",
     "output_type": "stream",
     "text": [
      "Tests Passed\n"
     ]
    }
   ],
   "source": [
    "from tensorflow.python.layers.core import Dense\n",
    "def decoding_layer(dec_input, encoder_state,\n",
    "                   target_sequence_length, max_target_sequence_length,\n",
    "                   rnn_size,\n",
    "                   num_layers, target_vocab_to_int, target_vocab_size,\n",
    "                   batch_size, keep_prob, decoding_embedding_size):\n",
    "    \"\"\"\n",
    "    Create decoding layer\n",
    "    :param dec_input: Decoder input\n",
    "    :param encoder_state: Encoder state\n",
    "    :param target_sequence_length: The lengths of each sequence in the target batch\n",
    "    :param max_target_sequence_length: Maximum length of target sequences\n",
    "    :param rnn_size: RNN Size\n",
    "    :param num_layers: Number of layers\n",
    "    :param target_vocab_to_int: Dictionary to go from the target words to an id\n",
    "    :param target_vocab_size: Size of target vocabulary\n",
    "    :param batch_size: The size of the batch\n",
    "    :param keep_prob: Dropout keep probability\n",
    "    :param decoding_embedding_size: Decoding embedding size\n",
    "    :return: Tuple of (Training BasicDecoderOutput, Inference BasicDecoderOutput)\n",
    "    \"\"\"\n",
    "    dec_embeddings = tf.Variable(tf.random_uniform([target_vocab_size, decoding_embedding_size]))\n",
    "    embed = tf.nn.embedding_lookup(dec_embeddings, dec_input)\n",
    "\n",
    "    def lstm_cell(size):\n",
    "        cell = tf.contrib.rnn.LSTMCell(size,\n",
    "                                       initializer=tf.random_uniform_initializer(-0.1,0.1,seed=7))\n",
    "        dropout = tf.contrib.rnn.DropoutWrapper(cell, input_keep_prob=keep_prob, output_keep_prob=keep_prob)\n",
    "        return dropout\n",
    "    rnn_cell = tf.contrib.rnn.MultiRNNCell([lstm_cell(rnn_size) for _ in range(0, num_layers)])\n",
    "\n",
    "    #rnn_out, rnn_state = tf.nn.dynamic_rnn(rnn_cell, embed, target_sequence_length, dtype=tf.float32)\n",
    "\n",
    "    #dense layer\n",
    "    output_layer = Dense(target_vocab_size, \n",
    "                                activation=None     #linear activation\n",
    "                                , kernel_initializer = tf.truncated_normal_initializer(mean = 0.0, stddev=0.1))\n",
    "    with tf.variable_scope('decode'):\n",
    "        training_decoder_out = decoding_layer_train(encoder_state, rnn_cell, embed\n",
    "                                                    , target_sequence_length, max_target_sequence_length, output_layer, keep_prob)\n",
    "\n",
    "    with tf.variable_scope('decode', reuse=True):\n",
    "        #print(dec_input.shape)\n",
    "        inference_decoder_output = decoding_layer_infer(encoder_state, rnn_cell, dec_embeddings\n",
    "                                                        , target_vocab_to_int['<GO>'], target_vocab_to_int['<EOS>']\n",
    "                                                        , max_target_sequence_length, target_vocab_size, output_layer\n",
    "                                                        , batch_size, keep_prob)\n",
    "\n",
    "    return training_decoder_out, inference_decoder_output\n",
    "\n",
    "\n",
    "\n",
    "\"\"\"\n",
    "DON'T MODIFY ANYTHING IN THIS CELL THAT IS BELOW THIS LINE\n",
    "\"\"\"\n",
    "tests.test_decoding_layer(decoding_layer)"
   ]
  },
  {
   "cell_type": "markdown",
   "metadata": {
    "deletable": true,
    "editable": true
   },
   "source": [
    "### Build the Neural Network\n",
    "Apply the functions you implemented above to:\n",
    "\n",
    "- Encode the input using your `encoding_layer(rnn_inputs, rnn_size, num_layers, keep_prob,  source_sequence_length, source_vocab_size, encoding_embedding_size)`.\n",
    "- Process target data using your `process_decoder_input(target_data, target_vocab_to_int, batch_size)` function.\n",
    "- Decode the encoded input using your `decoding_layer(dec_input, enc_state, target_sequence_length, max_target_sentence_length, rnn_size, num_layers, target_vocab_to_int, target_vocab_size, batch_size, keep_prob, dec_embedding_size)` function."
   ]
  },
  {
   "cell_type": "code",
   "execution_count": 13,
   "metadata": {
    "collapsed": false,
    "deletable": true,
    "editable": true
   },
   "outputs": [
    {
     "name": "stdout",
     "output_type": "stream",
     "text": [
      "Tests Passed\n"
     ]
    }
   ],
   "source": [
    "def seq2seq_model(input_data, target_data, keep_prob, batch_size,\n",
    "                  source_sequence_length, target_sequence_length,\n",
    "                  max_target_sentence_length,\n",
    "                  source_vocab_size, target_vocab_size,\n",
    "                  enc_embedding_size, dec_embedding_size,\n",
    "                  rnn_size, num_layers, target_vocab_to_int):\n",
    "    \"\"\"\n",
    "    Build the Sequence-to-Sequence part of the neural network\n",
    "    :param input_data: Input placeholder\n",
    "    :param target_data: Target placeholder\n",
    "    :param keep_prob: Dropout keep probability placeholder\n",
    "    :param batch_size: Batch Size\n",
    "    :param source_sequence_length: Sequence Lengths of source sequences in the batch\n",
    "    :param target_sequence_length: Sequence Lengths of target sequences in the batch\n",
    "    :param source_vocab_size: Source vocabulary size\n",
    "    :param target_vocab_size: Target vocabulary size\n",
    "    :param enc_embedding_size: Decoder embedding size\n",
    "    :param dec_embedding_size: Encoder embedding size\n",
    "    :param rnn_size: RNN Size\n",
    "    :param num_layers: Number of layers\n",
    "    :param target_vocab_to_int: Dictionary to go from the target words to an id\n",
    "    :return: Tuple of (Training BasicDecoderOutput, Inference BasicDecoderOutput)\n",
    "    \"\"\"\n",
    "    enc_out, enc_state = encoding_layer(input_data, rnn_size, num_layers, keep_prob, source_sequence_length\n",
    "                        , source_vocab_size, enc_embedding_size)\n",
    "    dec_input = process_decoder_input(target_data, target_vocab_to_int, batch_size)\n",
    "\n",
    "    training_decoder_out, infer_decode_out = decoding_layer(dec_input\n",
    "                                                            , enc_state, target_sequence_length\n",
    "                                                            , max_target_sentence_length\n",
    "                                                            , rnn_size, num_layers\n",
    "                                                            , target_vocab_to_int, target_vocab_size\n",
    "                                                            , batch_size, keep_prob, dec_embedding_size)\n",
    "    return training_decoder_out, infer_decode_out\n",
    "\n",
    "\n",
    "\"\"\"\n",
    "DON'T MODIFY ANYTHING IN THIS CELL THAT IS BELOW THIS LINE\n",
    "\"\"\"\n",
    "tests.test_seq2seq_model(seq2seq_model)"
   ]
  },
  {
   "cell_type": "markdown",
   "metadata": {
    "deletable": true,
    "editable": true
   },
   "source": [
    "## Neural Network Training\n",
    "### Hyperparameters\n",
    "Tune the following parameters:\n",
    "\n",
    "- Set `epochs` to the number of epochs.\n",
    "- Set `batch_size` to the batch size.\n",
    "- Set `rnn_size` to the size of the RNNs.\n",
    "- Set `num_layers` to the number of layers.\n",
    "- Set `encoding_embedding_size` to the size of the embedding for the encoder.\n",
    "- Set `decoding_embedding_size` to the size of the embedding for the decoder.\n",
    "- Set `learning_rate` to the learning rate.\n",
    "- Set `keep_probability` to the Dropout keep probability\n",
    "- Set `display_step` to state how many steps between each debug output statement"
   ]
  },
  {
   "cell_type": "code",
   "execution_count": 60,
   "metadata": {
    "collapsed": true,
    "deletable": true,
    "editable": true
   },
   "outputs": [],
   "source": [
    "# Number of Epochs\n",
    "epochs = 10\n",
    "# Batch Size\n",
    "batch_size = 512\n",
    "# RNN Size\n",
    "rnn_size = 200 # had it at 512 got a comment about small vocab size recommending smaller size\n",
    "# Number of Layers\n",
    "num_layers = 3\n",
    "# Embedding Size\n",
    "encoding_embedding_size = 200 # embedding size reduced in response to a comment about small vocab\n",
    "decoding_embedding_size = 200\n",
    "# Learning Rate\n",
    "learning_rate = 0.001\n",
    "# Dropout Keep Probability\n",
    "keep_probability = 0.65\n",
    "display_step = 10"
   ]
  },
  {
   "cell_type": "markdown",
   "metadata": {
    "deletable": true,
    "editable": true
   },
   "source": [
    "### Build the Graph\n",
    "Build the graph using the neural network you implemented."
   ]
  },
  {
   "cell_type": "code",
   "execution_count": 61,
   "metadata": {
    "collapsed": true,
    "deletable": true,
    "editable": true
   },
   "outputs": [],
   "source": [
    "\"\"\"\n",
    "DON'T MODIFY ANYTHING IN THIS CELL\n",
    "\"\"\"\n",
    "save_path = 'checkpoints/dev'\n",
    "(source_int_text, target_int_text), (source_vocab_to_int, target_vocab_to_int), _ = helper.load_preprocess()\n",
    "max_target_sentence_length = max([len(sentence) for sentence in source_int_text])\n",
    "\n",
    "train_graph = tf.Graph()\n",
    "with train_graph.as_default():\n",
    "    input_data, targets, lr, keep_prob, target_sequence_length, max_target_sequence_length, source_sequence_length = model_inputs()\n",
    "\n",
    "    #sequence_length = tf.placeholder_with_default(max_target_sentence_length, None, name='sequence_length')\n",
    "    input_shape = tf.shape(input_data)\n",
    "\n",
    "    train_logits, inference_logits = seq2seq_model(tf.reverse(input_data, [-1]),\n",
    "                                                   targets,\n",
    "                                                   keep_prob,\n",
    "                                                   batch_size,\n",
    "                                                   source_sequence_length,\n",
    "                                                   target_sequence_length,\n",
    "                                                   max_target_sequence_length,\n",
    "                                                   len(source_vocab_to_int),\n",
    "                                                   len(target_vocab_to_int),\n",
    "                                                   encoding_embedding_size,\n",
    "                                                   decoding_embedding_size,\n",
    "                                                   rnn_size,\n",
    "                                                   num_layers,\n",
    "                                                   target_vocab_to_int)\n",
    "\n",
    "\n",
    "    training_logits = tf.identity(train_logits.rnn_output, name='logits')\n",
    "    inference_logits = tf.identity(inference_logits.sample_id, name='predictions')\n",
    "\n",
    "    masks = tf.sequence_mask(target_sequence_length, max_target_sequence_length, dtype=tf.float32, name='masks')\n",
    "\n",
    "    with tf.name_scope(\"optimization\"):\n",
    "        # Loss function\n",
    "        cost = tf.contrib.seq2seq.sequence_loss(\n",
    "            training_logits,\n",
    "            targets,\n",
    "            masks)\n",
    "\n",
    "        # Optimizer\n",
    "        optimizer = tf.train.AdamOptimizer(lr)\n",
    "\n",
    "        # Gradient Clipping\n",
    "        gradients = optimizer.compute_gradients(cost)\n",
    "        capped_gradients = [(tf.clip_by_value(grad, -1., 1.), var) for grad, var in gradients if grad is not None]\n",
    "        train_op = optimizer.apply_gradients(capped_gradients)\n"
   ]
  },
  {
   "cell_type": "markdown",
   "metadata": {
    "deletable": true,
    "editable": true
   },
   "source": [
    "Batch and pad the source and target sequences"
   ]
  },
  {
   "cell_type": "code",
   "execution_count": 20,
   "metadata": {
    "collapsed": true,
    "deletable": true,
    "editable": true
   },
   "outputs": [],
   "source": [
    "\"\"\"\n",
    "DON'T MODIFY ANYTHING IN THIS CELL\n",
    "\"\"\"\n",
    "def pad_sentence_batch(sentence_batch, pad_int):\n",
    "    \"\"\"Pad sentences with <PAD> so that each sentence of a batch has the same length\"\"\"\n",
    "    max_sentence = max([len(sentence) for sentence in sentence_batch])\n",
    "    return [sentence + [pad_int] * (max_sentence - len(sentence)) for sentence in sentence_batch]\n",
    "\n",
    "\n",
    "def get_batches(sources, targets, batch_size, source_pad_int, target_pad_int):\n",
    "    \"\"\"Batch targets, sources, and the lengths of their sentences together\"\"\"\n",
    "    for batch_i in range(0, len(sources)//batch_size):\n",
    "        start_i = batch_i * batch_size\n",
    "\n",
    "        # Slice the right amount for the batch\n",
    "        sources_batch = sources[start_i:start_i + batch_size]\n",
    "        targets_batch = targets[start_i:start_i + batch_size]\n",
    "\n",
    "        # Pad\n",
    "        pad_sources_batch = np.array(pad_sentence_batch(sources_batch, source_pad_int))\n",
    "        pad_targets_batch = np.array(pad_sentence_batch(targets_batch, target_pad_int))\n",
    "\n",
    "        # Need the lengths for the _lengths parameters\n",
    "        pad_targets_lengths = []\n",
    "        for target in pad_targets_batch:\n",
    "            pad_targets_lengths.append(len(target))\n",
    "\n",
    "        pad_source_lengths = []\n",
    "        for source in pad_sources_batch:\n",
    "            pad_source_lengths.append(len(source))\n",
    "\n",
    "        yield pad_sources_batch, pad_targets_batch, pad_source_lengths, pad_targets_lengths\n"
   ]
  },
  {
   "cell_type": "markdown",
   "metadata": {
    "deletable": true,
    "editable": true
   },
   "source": [
    "### Train\n",
    "Train the neural network on the preprocessed data. If you have a hard time getting a good loss, check the forms to see if anyone is having the same problem."
   ]
  },
  {
   "cell_type": "code",
   "execution_count": 62,
   "metadata": {
    "collapsed": false,
    "deletable": true,
    "editable": true,
    "scrolled": true
   },
   "outputs": [
    {
     "name": "stdout",
     "output_type": "stream",
     "text": [
      "Epoch   0 Batch   10/269 - Train Accuracy: 0.3072, Validation Accuracy: 0.3752, Loss: 3.7453\n",
      "Epoch   0 Batch   20/269 - Train Accuracy: 0.3883, Validation Accuracy: 0.4426, Loss: 3.0900\n",
      "Epoch   0 Batch   30/269 - Train Accuracy: 0.4211, Validation Accuracy: 0.4538, Loss: 2.7612\n",
      "Epoch   0 Batch   40/269 - Train Accuracy: 0.4164, Validation Accuracy: 0.4699, Loss: 2.6973\n",
      "Epoch   0 Batch   50/269 - Train Accuracy: 0.4329, Validation Accuracy: 0.4759, Loss: 2.5585\n",
      "Epoch   0 Batch   60/269 - Train Accuracy: 0.4817, Validation Accuracy: 0.4972, Loss: 2.2739\n",
      "Epoch   0 Batch   70/269 - Train Accuracy: 0.4558, Validation Accuracy: 0.4741, Loss: 2.1900\n",
      "Epoch   0 Batch   80/269 - Train Accuracy: 0.4615, Validation Accuracy: 0.4845, Loss: 2.0409\n",
      "Epoch   0 Batch   90/269 - Train Accuracy: 0.4149, Validation Accuracy: 0.4929, Loss: 2.0908\n",
      "Epoch   0 Batch  100/269 - Train Accuracy: 0.4965, Validation Accuracy: 0.5079, Loss: 1.8564\n",
      "Epoch   0 Batch  110/269 - Train Accuracy: 0.4695, Validation Accuracy: 0.5065, Loss: 1.8897\n",
      "Epoch   0 Batch  120/269 - Train Accuracy: 0.4709, Validation Accuracy: 0.5245, Loss: 1.8597\n",
      "Epoch   0 Batch  130/269 - Train Accuracy: 0.4550, Validation Accuracy: 0.5091, Loss: 1.8455\n",
      "Epoch   0 Batch  140/269 - Train Accuracy: 0.5081, Validation Accuracy: 0.5261, Loss: 1.6919\n",
      "Epoch   0 Batch  150/269 - Train Accuracy: 0.4982, Validation Accuracy: 0.5204, Loss: 1.6492\n",
      "Epoch   0 Batch  160/269 - Train Accuracy: 0.5141, Validation Accuracy: 0.5264, Loss: 1.6072\n",
      "Epoch   0 Batch  170/269 - Train Accuracy: 0.5239, Validation Accuracy: 0.5471, Loss: 1.5576\n",
      "Epoch   0 Batch  180/269 - Train Accuracy: 0.5055, Validation Accuracy: 0.5325, Loss: 1.4995\n",
      "Epoch   0 Batch  190/269 - Train Accuracy: 0.5285, Validation Accuracy: 0.5459, Loss: 1.4621\n",
      "Epoch   0 Batch  200/269 - Train Accuracy: 0.4997, Validation Accuracy: 0.5374, Loss: 1.4868\n",
      "Epoch   0 Batch  210/269 - Train Accuracy: 0.5301, Validation Accuracy: 0.5367, Loss: 1.3953\n",
      "Epoch   0 Batch  220/269 - Train Accuracy: 0.5391, Validation Accuracy: 0.5425, Loss: 1.3155\n",
      "Epoch   0 Batch  230/269 - Train Accuracy: 0.5063, Validation Accuracy: 0.5391, Loss: 1.3549\n",
      "Epoch   0 Batch  240/269 - Train Accuracy: 0.5637, Validation Accuracy: 0.5461, Loss: 1.2272\n",
      "Epoch   0 Batch  250/269 - Train Accuracy: 0.5175, Validation Accuracy: 0.5504, Loss: 1.3319\n",
      "Epoch   0 Batch  260/269 - Train Accuracy: 0.5200, Validation Accuracy: 0.5459, Loss: 1.3204\n",
      "Epoch   1 Batch   10/269 - Train Accuracy: 0.5180, Validation Accuracy: 0.5503, Loss: 1.2375\n",
      "Epoch   1 Batch   20/269 - Train Accuracy: 0.5333, Validation Accuracy: 0.5630, Loss: 1.2327\n",
      "Epoch   1 Batch   30/269 - Train Accuracy: 0.5590, Validation Accuracy: 0.5674, Loss: 1.1522\n",
      "Epoch   1 Batch   40/269 - Train Accuracy: 0.5495, Validation Accuracy: 0.5786, Loss: 1.1749\n",
      "Epoch   1 Batch   50/269 - Train Accuracy: 0.5497, Validation Accuracy: 0.5778, Loss: 1.1692\n",
      "Epoch   1 Batch   60/269 - Train Accuracy: 0.5831, Validation Accuracy: 0.5820, Loss: 1.0476\n",
      "Epoch   1 Batch   70/269 - Train Accuracy: 0.5907, Validation Accuracy: 0.5827, Loss: 1.0642\n",
      "Epoch   1 Batch   80/269 - Train Accuracy: 0.5916, Validation Accuracy: 0.5930, Loss: 1.0201\n",
      "Epoch   1 Batch   90/269 - Train Accuracy: 0.5457, Validation Accuracy: 0.5905, Loss: 1.0887\n",
      "Epoch   1 Batch  100/269 - Train Accuracy: 0.5987, Validation Accuracy: 0.5965, Loss: 0.9708\n",
      "Epoch   1 Batch  110/269 - Train Accuracy: 0.5760, Validation Accuracy: 0.5950, Loss: 0.9672\n",
      "Epoch   1 Batch  120/269 - Train Accuracy: 0.5761, Validation Accuracy: 0.5998, Loss: 0.9909\n",
      "Epoch   1 Batch  130/269 - Train Accuracy: 0.5652, Validation Accuracy: 0.6000, Loss: 0.9855\n",
      "Epoch   1 Batch  140/269 - Train Accuracy: 0.6006, Validation Accuracy: 0.6019, Loss: 0.9375\n",
      "Epoch   1 Batch  150/269 - Train Accuracy: 0.5932, Validation Accuracy: 0.5991, Loss: 0.9223\n",
      "Epoch   1 Batch  160/269 - Train Accuracy: 0.5915, Validation Accuracy: 0.5989, Loss: 0.8928\n",
      "Epoch   1 Batch  170/269 - Train Accuracy: 0.5942, Validation Accuracy: 0.5994, Loss: 0.8712\n",
      "Epoch   1 Batch  180/269 - Train Accuracy: 0.5885, Validation Accuracy: 0.6009, Loss: 0.8466\n",
      "Epoch   1 Batch  190/269 - Train Accuracy: 0.5935, Validation Accuracy: 0.6037, Loss: 0.8350\n",
      "Epoch   1 Batch  200/269 - Train Accuracy: 0.5857, Validation Accuracy: 0.6056, Loss: 0.8655\n",
      "Epoch   1 Batch  210/269 - Train Accuracy: 0.5977, Validation Accuracy: 0.6001, Loss: 0.8221\n",
      "Epoch   1 Batch  220/269 - Train Accuracy: 0.6059, Validation Accuracy: 0.6029, Loss: 0.7763\n",
      "Epoch   1 Batch  230/269 - Train Accuracy: 0.5922, Validation Accuracy: 0.6048, Loss: 0.8107\n",
      "Epoch   1 Batch  240/269 - Train Accuracy: 0.6280, Validation Accuracy: 0.6048, Loss: 0.7281\n",
      "Epoch   1 Batch  250/269 - Train Accuracy: 0.5843, Validation Accuracy: 0.6048, Loss: 0.8018\n",
      "Epoch   1 Batch  260/269 - Train Accuracy: 0.5939, Validation Accuracy: 0.6061, Loss: 0.8145\n",
      "Epoch   2 Batch   10/269 - Train Accuracy: 0.5944, Validation Accuracy: 0.6063, Loss: 0.7764\n",
      "Epoch   2 Batch   20/269 - Train Accuracy: 0.6038, Validation Accuracy: 0.6156, Loss: 0.7719\n",
      "Epoch   2 Batch   30/269 - Train Accuracy: 0.6120, Validation Accuracy: 0.6128, Loss: 0.7330\n",
      "Epoch   2 Batch   40/269 - Train Accuracy: 0.5959, Validation Accuracy: 0.6083, Loss: 0.7526\n",
      "Epoch   2 Batch   50/269 - Train Accuracy: 0.5870, Validation Accuracy: 0.6062, Loss: 0.7571\n",
      "Epoch   2 Batch   60/269 - Train Accuracy: 0.6269, Validation Accuracy: 0.6223, Loss: 0.6840\n",
      "Epoch   2 Batch   70/269 - Train Accuracy: 0.6251, Validation Accuracy: 0.6105, Loss: 0.7155\n",
      "Epoch   2 Batch   80/269 - Train Accuracy: 0.6304, Validation Accuracy: 0.6233, Loss: 0.6991\n",
      "Epoch   2 Batch   90/269 - Train Accuracy: 0.5756, Validation Accuracy: 0.6190, Loss: 0.7419\n",
      "Epoch   2 Batch  100/269 - Train Accuracy: 0.6357, Validation Accuracy: 0.6256, Loss: 0.6818\n",
      "Epoch   2 Batch  110/269 - Train Accuracy: 0.6167, Validation Accuracy: 0.6241, Loss: 0.6743\n",
      "Epoch   2 Batch  120/269 - Train Accuracy: 0.6229, Validation Accuracy: 0.6301, Loss: 0.6926\n",
      "Epoch   2 Batch  130/269 - Train Accuracy: 0.6046, Validation Accuracy: 0.6330, Loss: 0.7006\n",
      "Epoch   2 Batch  140/269 - Train Accuracy: 0.6375, Validation Accuracy: 0.6302, Loss: 0.6713\n",
      "Epoch   2 Batch  150/269 - Train Accuracy: 0.6369, Validation Accuracy: 0.6436, Loss: 0.6607\n",
      "Epoch   2 Batch  160/269 - Train Accuracy: 0.6327, Validation Accuracy: 0.6415, Loss: 0.6429\n",
      "Epoch   2 Batch  170/269 - Train Accuracy: 0.6404, Validation Accuracy: 0.6440, Loss: 0.6308\n",
      "Epoch   2 Batch  180/269 - Train Accuracy: 0.6328, Validation Accuracy: 0.6439, Loss: 0.6285\n",
      "Epoch   2 Batch  190/269 - Train Accuracy: 0.6371, Validation Accuracy: 0.6523, Loss: 0.6165\n",
      "Epoch   2 Batch  200/269 - Train Accuracy: 0.6513, Validation Accuracy: 0.6520, Loss: 0.6362\n",
      "Epoch   2 Batch  210/269 - Train Accuracy: 0.6585, Validation Accuracy: 0.6630, Loss: 0.6034\n",
      "Epoch   2 Batch  220/269 - Train Accuracy: 0.6500, Validation Accuracy: 0.6602, Loss: 0.5768\n",
      "Epoch   2 Batch  230/269 - Train Accuracy: 0.6475, Validation Accuracy: 0.6616, Loss: 0.6025\n",
      "Epoch   2 Batch  240/269 - Train Accuracy: 0.6696, Validation Accuracy: 0.6661, Loss: 0.5394\n",
      "Epoch   2 Batch  250/269 - Train Accuracy: 0.6410, Validation Accuracy: 0.6701, Loss: 0.6075\n",
      "Epoch   2 Batch  260/269 - Train Accuracy: 0.6452, Validation Accuracy: 0.6632, Loss: 0.6172\n",
      "Epoch   3 Batch   10/269 - Train Accuracy: 0.6507, Validation Accuracy: 0.6681, Loss: 0.5858\n",
      "Epoch   3 Batch   20/269 - Train Accuracy: 0.6498, Validation Accuracy: 0.6699, Loss: 0.5852\n",
      "Epoch   3 Batch   30/269 - Train Accuracy: 0.6695, Validation Accuracy: 0.6660, Loss: 0.5567\n",
      "Epoch   3 Batch   40/269 - Train Accuracy: 0.6523, Validation Accuracy: 0.6676, Loss: 0.5795\n",
      "Epoch   3 Batch   50/269 - Train Accuracy: 0.6432, Validation Accuracy: 0.6738, Loss: 0.5865\n",
      "Epoch   3 Batch   60/269 - Train Accuracy: 0.6681, Validation Accuracy: 0.6684, Loss: 0.5192\n",
      "Epoch   3 Batch   70/269 - Train Accuracy: 0.6767, Validation Accuracy: 0.6712, Loss: 0.5530\n",
      "Epoch   3 Batch   80/269 - Train Accuracy: 0.6823, Validation Accuracy: 0.6703, Loss: 0.5419\n",
      "Epoch   3 Batch   90/269 - Train Accuracy: 0.6235, Validation Accuracy: 0.6737, Loss: 0.5707\n",
      "Epoch   3 Batch  100/269 - Train Accuracy: 0.6885, Validation Accuracy: 0.6720, Loss: 0.5260\n",
      "Epoch   3 Batch  110/269 - Train Accuracy: 0.6635, Validation Accuracy: 0.6721, Loss: 0.5301\n",
      "Epoch   3 Batch  120/269 - Train Accuracy: 0.6619, Validation Accuracy: 0.6771, Loss: 0.5372\n",
      "Epoch   3 Batch  130/269 - Train Accuracy: 0.6524, Validation Accuracy: 0.6793, Loss: 0.5472\n",
      "Epoch   3 Batch  140/269 - Train Accuracy: 0.6700, Validation Accuracy: 0.6775, Loss: 0.5234\n",
      "Epoch   3 Batch  150/269 - Train Accuracy: 0.6828, Validation Accuracy: 0.6787, Loss: 0.5139\n",
      "Epoch   3 Batch  160/269 - Train Accuracy: 0.6739, Validation Accuracy: 0.6803, Loss: 0.5125\n",
      "Epoch   3 Batch  170/269 - Train Accuracy: 0.6772, Validation Accuracy: 0.6754, Loss: 0.5006\n",
      "Epoch   3 Batch  180/269 - Train Accuracy: 0.6804, Validation Accuracy: 0.6798, Loss: 0.4940\n",
      "Epoch   3 Batch  190/269 - Train Accuracy: 0.6910, Validation Accuracy: 0.6785, Loss: 0.4826\n",
      "Epoch   3 Batch  200/269 - Train Accuracy: 0.6813, Validation Accuracy: 0.6821, Loss: 0.5048\n",
      "Epoch   3 Batch  210/269 - Train Accuracy: 0.6739, Validation Accuracy: 0.6860, Loss: 0.4838\n",
      "Epoch   3 Batch  220/269 - Train Accuracy: 0.6783, Validation Accuracy: 0.6775, Loss: 0.4628\n",
      "Epoch   3 Batch  230/269 - Train Accuracy: 0.6711, Validation Accuracy: 0.6873, Loss: 0.4811\n",
      "Epoch   3 Batch  240/269 - Train Accuracy: 0.7110, Validation Accuracy: 0.6860, Loss: 0.4318\n",
      "Epoch   3 Batch  250/269 - Train Accuracy: 0.6703, Validation Accuracy: 0.6950, Loss: 0.4858\n",
      "Epoch   3 Batch  260/269 - Train Accuracy: 0.6660, Validation Accuracy: 0.6904, Loss: 0.5010\n",
      "Epoch   4 Batch   10/269 - Train Accuracy: 0.6832, Validation Accuracy: 0.6826, Loss: 0.4733\n",
      "Epoch   4 Batch   20/269 - Train Accuracy: 0.6841, Validation Accuracy: 0.6915, Loss: 0.4623\n",
      "Epoch   4 Batch   30/269 - Train Accuracy: 0.6911, Validation Accuracy: 0.6847, Loss: 0.4483\n",
      "Epoch   4 Batch   40/269 - Train Accuracy: 0.6814, Validation Accuracy: 0.6895, Loss: 0.4620\n",
      "Epoch   4 Batch   50/269 - Train Accuracy: 0.6854, Validation Accuracy: 0.6952, Loss: 0.4641\n",
      "Epoch   4 Batch   60/269 - Train Accuracy: 0.6983, Validation Accuracy: 0.6965, Loss: 0.4121\n",
      "Epoch   4 Batch   70/269 - Train Accuracy: 0.7083, Validation Accuracy: 0.7029, Loss: 0.4409\n",
      "Epoch   4 Batch   80/269 - Train Accuracy: 0.7186, Validation Accuracy: 0.7050, Loss: 0.4249\n",
      "Epoch   4 Batch   90/269 - Train Accuracy: 0.6582, Validation Accuracy: 0.7096, Loss: 0.4444\n",
      "Epoch   4 Batch  100/269 - Train Accuracy: 0.7363, Validation Accuracy: 0.7100, Loss: 0.4120\n",
      "Epoch   4 Batch  110/269 - Train Accuracy: 0.7128, Validation Accuracy: 0.7235, Loss: 0.4107\n",
      "Epoch   4 Batch  120/269 - Train Accuracy: 0.7017, Validation Accuracy: 0.7184, Loss: 0.4181\n",
      "Epoch   4 Batch  130/269 - Train Accuracy: 0.7044, Validation Accuracy: 0.7190, Loss: 0.4212\n",
      "Epoch   4 Batch  140/269 - Train Accuracy: 0.7256, Validation Accuracy: 0.7322, Loss: 0.4128\n",
      "Epoch   4 Batch  150/269 - Train Accuracy: 0.7376, Validation Accuracy: 0.7414, Loss: 0.3947\n",
      "Epoch   4 Batch  160/269 - Train Accuracy: 0.7379, Validation Accuracy: 0.7383, Loss: 0.3944\n",
      "Epoch   4 Batch  170/269 - Train Accuracy: 0.7396, Validation Accuracy: 0.7434, Loss: 0.3825\n",
      "Epoch   4 Batch  180/269 - Train Accuracy: 0.7515, Validation Accuracy: 0.7412, Loss: 0.3767\n",
      "Epoch   4 Batch  190/269 - Train Accuracy: 0.7549, Validation Accuracy: 0.7438, Loss: 0.3734\n",
      "Epoch   4 Batch  200/269 - Train Accuracy: 0.7438, Validation Accuracy: 0.7396, Loss: 0.3808\n",
      "Epoch   4 Batch  210/269 - Train Accuracy: 0.7453, Validation Accuracy: 0.7331, Loss: 0.3656\n",
      "Epoch   4 Batch  220/269 - Train Accuracy: 0.7546, Validation Accuracy: 0.7419, Loss: 0.3554\n",
      "Epoch   4 Batch  230/269 - Train Accuracy: 0.7483, Validation Accuracy: 0.7484, Loss: 0.3630\n",
      "Epoch   4 Batch  240/269 - Train Accuracy: 0.7634, Validation Accuracy: 0.7441, Loss: 0.3313\n",
      "Epoch   4 Batch  250/269 - Train Accuracy: 0.7403, Validation Accuracy: 0.7514, Loss: 0.3690\n",
      "Epoch   4 Batch  260/269 - Train Accuracy: 0.7452, Validation Accuracy: 0.7559, Loss: 0.3789\n",
      "Epoch   5 Batch   10/269 - Train Accuracy: 0.7605, Validation Accuracy: 0.7544, Loss: 0.3498\n",
      "Epoch   5 Batch   20/269 - Train Accuracy: 0.7593, Validation Accuracy: 0.7624, Loss: 0.3524\n",
      "Epoch   5 Batch   30/269 - Train Accuracy: 0.7539, Validation Accuracy: 0.7476, Loss: 0.3413\n",
      "Epoch   5 Batch   40/269 - Train Accuracy: 0.7439, Validation Accuracy: 0.7562, Loss: 0.3519\n",
      "Epoch   5 Batch   50/269 - Train Accuracy: 0.7506, Validation Accuracy: 0.7619, Loss: 0.3471\n",
      "Epoch   5 Batch   60/269 - Train Accuracy: 0.7639, Validation Accuracy: 0.7629, Loss: 0.3129\n",
      "Epoch   5 Batch   70/269 - Train Accuracy: 0.7884, Validation Accuracy: 0.7584, Loss: 0.3328\n",
      "Epoch   5 Batch   80/269 - Train Accuracy: 0.7613, Validation Accuracy: 0.7630, Loss: 0.3256\n",
      "Epoch   5 Batch   90/269 - Train Accuracy: 0.7384, Validation Accuracy: 0.7621, Loss: 0.3455\n",
      "Epoch   5 Batch  100/269 - Train Accuracy: 0.7803, Validation Accuracy: 0.7660, Loss: 0.3172\n",
      "Epoch   5 Batch  110/269 - Train Accuracy: 0.7597, Validation Accuracy: 0.7652, Loss: 0.3169\n",
      "Epoch   5 Batch  120/269 - Train Accuracy: 0.7664, Validation Accuracy: 0.7845, Loss: 0.3168\n",
      "Epoch   5 Batch  130/269 - Train Accuracy: 0.7709, Validation Accuracy: 0.7736, Loss: 0.3218\n",
      "Epoch   5 Batch  140/269 - Train Accuracy: 0.7631, Validation Accuracy: 0.7688, Loss: 0.3196\n",
      "Epoch   5 Batch  150/269 - Train Accuracy: 0.7902, Validation Accuracy: 0.7844, Loss: 0.3023\n",
      "Epoch   5 Batch  160/269 - Train Accuracy: 0.7851, Validation Accuracy: 0.7800, Loss: 0.3043\n",
      "Epoch   5 Batch  170/269 - Train Accuracy: 0.7881, Validation Accuracy: 0.7832, Loss: 0.2931\n",
      "Epoch   5 Batch  180/269 - Train Accuracy: 0.7933, Validation Accuracy: 0.7835, Loss: 0.2993\n",
      "Epoch   5 Batch  190/269 - Train Accuracy: 0.7958, Validation Accuracy: 0.7899, Loss: 0.2889\n",
      "Epoch   5 Batch  200/269 - Train Accuracy: 0.7874, Validation Accuracy: 0.7895, Loss: 0.2955\n",
      "Epoch   5 Batch  210/269 - Train Accuracy: 0.7885, Validation Accuracy: 0.7981, Loss: 0.2838\n",
      "Epoch   5 Batch  220/269 - Train Accuracy: 0.7904, Validation Accuracy: 0.7929, Loss: 0.2660\n",
      "Epoch   5 Batch  230/269 - Train Accuracy: 0.7997, Validation Accuracy: 0.8028, Loss: 0.2821\n",
      "Epoch   5 Batch  240/269 - Train Accuracy: 0.8104, Validation Accuracy: 0.7994, Loss: 0.2535\n",
      "Epoch   5 Batch  250/269 - Train Accuracy: 0.8029, Validation Accuracy: 0.8098, Loss: 0.2760\n",
      "Epoch   5 Batch  260/269 - Train Accuracy: 0.7849, Validation Accuracy: 0.8023, Loss: 0.2886\n",
      "Epoch   6 Batch   10/269 - Train Accuracy: 0.7909, Validation Accuracy: 0.8015, Loss: 0.2668\n",
      "Epoch   6 Batch   20/269 - Train Accuracy: 0.8120, Validation Accuracy: 0.8145, Loss: 0.2691\n",
      "Epoch   6 Batch   30/269 - Train Accuracy: 0.8025, Validation Accuracy: 0.8129, Loss: 0.2559\n",
      "Epoch   6 Batch   40/269 - Train Accuracy: 0.7932, Validation Accuracy: 0.8103, Loss: 0.2738\n",
      "Epoch   6 Batch   50/269 - Train Accuracy: 0.7820, Validation Accuracy: 0.8083, Loss: 0.2713\n",
      "Epoch   6 Batch   60/269 - Train Accuracy: 0.8221, Validation Accuracy: 0.8210, Loss: 0.2337\n",
      "Epoch   6 Batch   70/269 - Train Accuracy: 0.8202, Validation Accuracy: 0.8029, Loss: 0.2483\n",
      "Epoch   6 Batch   80/269 - Train Accuracy: 0.8182, Validation Accuracy: 0.8232, Loss: 0.2434\n",
      "Epoch   6 Batch   90/269 - Train Accuracy: 0.7904, Validation Accuracy: 0.8100, Loss: 0.2546\n",
      "Epoch   6 Batch  100/269 - Train Accuracy: 0.8305, Validation Accuracy: 0.8306, Loss: 0.2405\n",
      "Epoch   6 Batch  110/269 - Train Accuracy: 0.7989, Validation Accuracy: 0.8190, Loss: 0.2375\n",
      "Epoch   6 Batch  120/269 - Train Accuracy: 0.8223, Validation Accuracy: 0.8245, Loss: 0.2396\n",
      "Epoch   6 Batch  130/269 - Train Accuracy: 0.8132, Validation Accuracy: 0.8240, Loss: 0.2460\n",
      "Epoch   6 Batch  140/269 - Train Accuracy: 0.8089, Validation Accuracy: 0.8169, Loss: 0.2410\n",
      "Epoch   6 Batch  150/269 - Train Accuracy: 0.8289, Validation Accuracy: 0.8353, Loss: 0.2306\n",
      "Epoch   6 Batch  160/269 - Train Accuracy: 0.8322, Validation Accuracy: 0.8269, Loss: 0.2286\n",
      "Epoch   6 Batch  170/269 - Train Accuracy: 0.8406, Validation Accuracy: 0.8196, Loss: 0.2226\n",
      "Epoch   6 Batch  180/269 - Train Accuracy: 0.8372, Validation Accuracy: 0.8280, Loss: 0.2185\n",
      "Epoch   6 Batch  190/269 - Train Accuracy: 0.8399, Validation Accuracy: 0.8382, Loss: 0.2153\n",
      "Epoch   6 Batch  200/269 - Train Accuracy: 0.8325, Validation Accuracy: 0.8453, Loss: 0.2214\n",
      "Epoch   6 Batch  210/269 - Train Accuracy: 0.8411, Validation Accuracy: 0.8445, Loss: 0.2141\n",
      "Epoch   6 Batch  220/269 - Train Accuracy: 0.8216, Validation Accuracy: 0.8359, Loss: 0.2058\n",
      "Epoch   6 Batch  230/269 - Train Accuracy: 0.8515, Validation Accuracy: 0.8564, Loss: 0.2107\n",
      "Epoch   6 Batch  240/269 - Train Accuracy: 0.8489, Validation Accuracy: 0.8430, Loss: 0.1912\n",
      "Epoch   6 Batch  250/269 - Train Accuracy: 0.8611, Validation Accuracy: 0.8554, Loss: 0.2076\n",
      "Epoch   6 Batch  260/269 - Train Accuracy: 0.8434, Validation Accuracy: 0.8529, Loss: 0.2172\n",
      "Epoch   7 Batch   10/269 - Train Accuracy: 0.8414, Validation Accuracy: 0.8622, Loss: 0.1956\n",
      "Epoch   7 Batch   20/269 - Train Accuracy: 0.8555, Validation Accuracy: 0.8670, Loss: 0.1982\n",
      "Epoch   7 Batch   30/269 - Train Accuracy: 0.8494, Validation Accuracy: 0.8497, Loss: 0.1970\n",
      "Epoch   7 Batch   40/269 - Train Accuracy: 0.8550, Validation Accuracy: 0.8619, Loss: 0.1989\n",
      "Epoch   7 Batch   50/269 - Train Accuracy: 0.8480, Validation Accuracy: 0.8623, Loss: 0.2066\n",
      "Epoch   7 Batch   60/269 - Train Accuracy: 0.8564, Validation Accuracy: 0.8742, Loss: 0.1787\n",
      "Epoch   7 Batch   70/269 - Train Accuracy: 0.8710, Validation Accuracy: 0.8679, Loss: 0.1875\n",
      "Epoch   7 Batch   80/269 - Train Accuracy: 0.8816, Validation Accuracy: 0.8667, Loss: 0.1830\n",
      "Epoch   7 Batch   90/269 - Train Accuracy: 0.8540, Validation Accuracy: 0.8646, Loss: 0.1878\n",
      "Epoch   7 Batch  100/269 - Train Accuracy: 0.8733, Validation Accuracy: 0.8674, Loss: 0.1811\n",
      "Epoch   7 Batch  110/269 - Train Accuracy: 0.8593, Validation Accuracy: 0.8668, Loss: 0.1756\n",
      "Epoch   7 Batch  120/269 - Train Accuracy: 0.8727, Validation Accuracy: 0.8700, Loss: 0.1802\n",
      "Epoch   7 Batch  130/269 - Train Accuracy: 0.8590, Validation Accuracy: 0.8762, Loss: 0.1824\n",
      "Epoch   7 Batch  140/269 - Train Accuracy: 0.8604, Validation Accuracy: 0.8733, Loss: 0.1816\n",
      "Epoch   7 Batch  150/269 - Train Accuracy: 0.8771, Validation Accuracy: 0.8744, Loss: 0.1724\n",
      "Epoch   7 Batch  160/269 - Train Accuracy: 0.8810, Validation Accuracy: 0.8761, Loss: 0.1671\n",
      "Epoch   7 Batch  170/269 - Train Accuracy: 0.8773, Validation Accuracy: 0.8747, Loss: 0.1676\n",
      "Epoch   7 Batch  180/269 - Train Accuracy: 0.8919, Validation Accuracy: 0.8800, Loss: 0.1644\n",
      "Epoch   7 Batch  190/269 - Train Accuracy: 0.8852, Validation Accuracy: 0.8786, Loss: 0.1609\n",
      "Epoch   7 Batch  200/269 - Train Accuracy: 0.8857, Validation Accuracy: 0.8849, Loss: 0.1662\n",
      "Epoch   7 Batch  210/269 - Train Accuracy: 0.8957, Validation Accuracy: 0.8830, Loss: 0.1625\n",
      "Epoch   7 Batch  220/269 - Train Accuracy: 0.8907, Validation Accuracy: 0.8858, Loss: 0.1543\n",
      "Epoch   7 Batch  230/269 - Train Accuracy: 0.8934, Validation Accuracy: 0.8819, Loss: 0.1545\n",
      "Epoch   7 Batch  240/269 - Train Accuracy: 0.8984, Validation Accuracy: 0.8918, Loss: 0.1463\n",
      "Epoch   7 Batch  250/269 - Train Accuracy: 0.9038, Validation Accuracy: 0.8947, Loss: 0.1559\n",
      "Epoch   7 Batch  260/269 - Train Accuracy: 0.8889, Validation Accuracy: 0.8987, Loss: 0.1602\n",
      "Epoch   8 Batch   10/269 - Train Accuracy: 0.8934, Validation Accuracy: 0.8958, Loss: 0.1436\n",
      "Epoch   8 Batch   20/269 - Train Accuracy: 0.8948, Validation Accuracy: 0.9013, Loss: 0.1493\n",
      "Epoch   8 Batch   30/269 - Train Accuracy: 0.9002, Validation Accuracy: 0.9022, Loss: 0.1426\n",
      "Epoch   8 Batch   40/269 - Train Accuracy: 0.8781, Validation Accuracy: 0.9077, Loss: 0.1512\n",
      "Epoch   8 Batch   50/269 - Train Accuracy: 0.8798, Validation Accuracy: 0.9043, Loss: 0.1639\n",
      "Epoch   8 Batch   60/269 - Train Accuracy: 0.9088, Validation Accuracy: 0.9039, Loss: 0.1323\n",
      "Epoch   8 Batch   70/269 - Train Accuracy: 0.8975, Validation Accuracy: 0.8979, Loss: 0.1423\n",
      "Epoch   8 Batch   80/269 - Train Accuracy: 0.9062, Validation Accuracy: 0.9023, Loss: 0.1340\n",
      "Epoch   8 Batch   90/269 - Train Accuracy: 0.9042, Validation Accuracy: 0.9030, Loss: 0.1456\n",
      "Epoch   8 Batch  100/269 - Train Accuracy: 0.9097, Validation Accuracy: 0.8967, Loss: 0.1352\n",
      "Epoch   8 Batch  110/269 - Train Accuracy: 0.9068, Validation Accuracy: 0.9101, Loss: 0.1316\n",
      "Epoch   8 Batch  120/269 - Train Accuracy: 0.9105, Validation Accuracy: 0.8989, Loss: 0.1347\n",
      "Epoch   8 Batch  130/269 - Train Accuracy: 0.9012, Validation Accuracy: 0.9081, Loss: 0.1376\n",
      "Epoch   8 Batch  140/269 - Train Accuracy: 0.8943, Validation Accuracy: 0.9015, Loss: 0.1339\n",
      "Epoch   8 Batch  150/269 - Train Accuracy: 0.8997, Validation Accuracy: 0.9042, Loss: 0.1242\n",
      "Epoch   8 Batch  160/269 - Train Accuracy: 0.9004, Validation Accuracy: 0.9070, Loss: 0.1275\n",
      "Epoch   8 Batch  170/269 - Train Accuracy: 0.9034, Validation Accuracy: 0.9006, Loss: 0.1241\n",
      "Epoch   8 Batch  180/269 - Train Accuracy: 0.9178, Validation Accuracy: 0.8986, Loss: 0.1213\n",
      "Epoch   8 Batch  190/269 - Train Accuracy: 0.9049, Validation Accuracy: 0.9102, Loss: 0.1205\n",
      "Epoch   8 Batch  200/269 - Train Accuracy: 0.9046, Validation Accuracy: 0.9097, Loss: 0.1199\n",
      "Epoch   8 Batch  210/269 - Train Accuracy: 0.9082, Validation Accuracy: 0.9052, Loss: 0.1191\n",
      "Epoch   8 Batch  220/269 - Train Accuracy: 0.9112, Validation Accuracy: 0.9049, Loss: 0.1171\n",
      "Epoch   8 Batch  230/269 - Train Accuracy: 0.9110, Validation Accuracy: 0.9048, Loss: 0.1217\n",
      "Epoch   8 Batch  240/269 - Train Accuracy: 0.9175, Validation Accuracy: 0.9136, Loss: 0.1112\n",
      "Epoch   8 Batch  250/269 - Train Accuracy: 0.9169, Validation Accuracy: 0.9034, Loss: 0.1132\n",
      "Epoch   8 Batch  260/269 - Train Accuracy: 0.9129, Validation Accuracy: 0.9141, Loss: 0.1185\n",
      "Epoch   9 Batch   10/269 - Train Accuracy: 0.9194, Validation Accuracy: 0.9154, Loss: 0.1024\n",
      "Epoch   9 Batch   20/269 - Train Accuracy: 0.9174, Validation Accuracy: 0.9141, Loss: 0.1088\n",
      "Epoch   9 Batch   30/269 - Train Accuracy: 0.9183, Validation Accuracy: 0.9115, Loss: 0.1081\n",
      "Epoch   9 Batch   40/269 - Train Accuracy: 0.9004, Validation Accuracy: 0.9177, Loss: 0.1146\n",
      "Epoch   9 Batch   50/269 - Train Accuracy: 0.9026, Validation Accuracy: 0.9077, Loss: 0.1182\n",
      "Epoch   9 Batch   60/269 - Train Accuracy: 0.9307, Validation Accuracy: 0.9149, Loss: 0.0975\n",
      "Epoch   9 Batch   70/269 - Train Accuracy: 0.9185, Validation Accuracy: 0.9164, Loss: 0.1080\n",
      "Epoch   9 Batch   80/269 - Train Accuracy: 0.9142, Validation Accuracy: 0.9253, Loss: 0.1001\n",
      "Epoch   9 Batch   90/269 - Train Accuracy: 0.9133, Validation Accuracy: 0.9161, Loss: 0.1059\n",
      "Epoch   9 Batch  100/269 - Train Accuracy: 0.9275, Validation Accuracy: 0.9173, Loss: 0.1023\n",
      "Epoch   9 Batch  110/269 - Train Accuracy: 0.9169, Validation Accuracy: 0.9173, Loss: 0.1021\n",
      "Epoch   9 Batch  120/269 - Train Accuracy: 0.9244, Validation Accuracy: 0.9175, Loss: 0.1017\n",
      "Epoch   9 Batch  130/269 - Train Accuracy: 0.9238, Validation Accuracy: 0.9269, Loss: 0.1059\n",
      "Epoch   9 Batch  140/269 - Train Accuracy: 0.9121, Validation Accuracy: 0.9294, Loss: 0.1010\n",
      "Epoch   9 Batch  150/269 - Train Accuracy: 0.9207, Validation Accuracy: 0.9252, Loss: 0.0985\n",
      "Epoch   9 Batch  160/269 - Train Accuracy: 0.9058, Validation Accuracy: 0.9202, Loss: 0.0960\n",
      "Epoch   9 Batch  170/269 - Train Accuracy: 0.9157, Validation Accuracy: 0.9174, Loss: 0.0917\n",
      "Epoch   9 Batch  180/269 - Train Accuracy: 0.9279, Validation Accuracy: 0.9213, Loss: 0.0912\n",
      "Epoch   9 Batch  190/269 - Train Accuracy: 0.9242, Validation Accuracy: 0.9214, Loss: 0.0890\n",
      "Epoch   9 Batch  200/269 - Train Accuracy: 0.9234, Validation Accuracy: 0.9284, Loss: 0.0943\n",
      "Epoch   9 Batch  210/269 - Train Accuracy: 0.9229, Validation Accuracy: 0.9258, Loss: 0.0877\n",
      "Epoch   9 Batch  220/269 - Train Accuracy: 0.9308, Validation Accuracy: 0.9204, Loss: 0.0878\n",
      "Epoch   9 Batch  230/269 - Train Accuracy: 0.9319, Validation Accuracy: 0.9253, Loss: 0.0902\n",
      "Epoch   9 Batch  240/269 - Train Accuracy: 0.9348, Validation Accuracy: 0.9241, Loss: 0.0853\n",
      "Epoch   9 Batch  250/269 - Train Accuracy: 0.9323, Validation Accuracy: 0.9244, Loss: 0.0885\n",
      "Epoch   9 Batch  260/269 - Train Accuracy: 0.9219, Validation Accuracy: 0.9234, Loss: 0.0989\n",
      "Model Trained and Saved\n"
     ]
    }
   ],
   "source": [
    "\"\"\"\n",
    "DON'T MODIFY ANYTHING IN THIS CELL\n",
    "\"\"\"\n",
    "def get_accuracy(target, logits):\n",
    "    \"\"\"\n",
    "    Calculate accuracy\n",
    "    \"\"\"\n",
    "    max_seq = max(target.shape[1], logits.shape[1])\n",
    "    if max_seq - target.shape[1]:\n",
    "        target = np.pad(\n",
    "            target,\n",
    "            [(0,0),(0,max_seq - target.shape[1])],\n",
    "            'constant')\n",
    "    if max_seq - logits.shape[1]:\n",
    "        logits = np.pad(\n",
    "            logits,\n",
    "            [(0,0),(0,max_seq - logits.shape[1])],\n",
    "            'constant')\n",
    "\n",
    "    return np.mean(np.equal(target, logits))\n",
    "\n",
    "# Split data to training and validation sets\n",
    "train_source = source_int_text[batch_size:]\n",
    "train_target = target_int_text[batch_size:]\n",
    "valid_source = source_int_text[:batch_size]\n",
    "valid_target = target_int_text[:batch_size]\n",
    "(valid_sources_batch, valid_targets_batch, valid_sources_lengths, valid_targets_lengths ) = next(get_batches(valid_source,\n",
    "                                                                                                             valid_target,\n",
    "                                                                                                             batch_size,\n",
    "                                                                                                             source_vocab_to_int['<PAD>'],\n",
    "                                                                                                             target_vocab_to_int['<PAD>']))                                                                                                  \n",
    "with tf.Session(graph=train_graph) as sess:\n",
    "    sess.run(tf.global_variables_initializer())\n",
    "\n",
    "    for epoch_i in range(epochs):\n",
    "        for batch_i, (source_batch, target_batch, sources_lengths, targets_lengths) in enumerate(\n",
    "                get_batches(train_source, train_target, batch_size,\n",
    "                            source_vocab_to_int['<PAD>'],\n",
    "                            target_vocab_to_int['<PAD>'])):\n",
    "\n",
    "            _, loss = sess.run(\n",
    "                [train_op, cost],\n",
    "                {input_data: source_batch,\n",
    "                 targets: target_batch,\n",
    "                 lr: learning_rate,\n",
    "                 target_sequence_length: targets_lengths,\n",
    "                 source_sequence_length: sources_lengths,\n",
    "                 keep_prob: keep_probability})\n",
    "\n",
    "\n",
    "            if batch_i % display_step == 0 and batch_i > 0:\n",
    "\n",
    "\n",
    "                batch_train_logits = sess.run(\n",
    "                    inference_logits,\n",
    "                    {input_data: source_batch,\n",
    "                     source_sequence_length: sources_lengths,\n",
    "                     target_sequence_length: targets_lengths,\n",
    "                     keep_prob: 1.0})\n",
    "\n",
    "\n",
    "                batch_valid_logits = sess.run(\n",
    "                    inference_logits,\n",
    "                    {input_data: valid_sources_batch,\n",
    "                     source_sequence_length: valid_sources_lengths,\n",
    "                     target_sequence_length: valid_targets_lengths,\n",
    "                     keep_prob: 1.0})\n",
    "\n",
    "                train_acc = get_accuracy(target_batch, batch_train_logits)\n",
    "\n",
    "                valid_acc = get_accuracy(valid_targets_batch, batch_valid_logits)\n",
    "\n",
    "                print('Epoch {:>3} Batch {:>4}/{} - Train Accuracy: {:>6.4f}, Validation Accuracy: {:>6.4f}, Loss: {:>6.4f}'\n",
    "                      .format(epoch_i, batch_i, len(source_int_text) // batch_size, train_acc, valid_acc, loss))\n",
    "\n",
    "    # Save Model\n",
    "    saver = tf.train.Saver()\n",
    "    saver.save(sess, save_path)\n",
    "    print('Model Trained and Saved')"
   ]
  },
  {
   "cell_type": "markdown",
   "metadata": {
    "deletable": true,
    "editable": true
   },
   "source": [
    "### Save Parameters\n",
    "Save the `batch_size` and `save_path` parameters for inference."
   ]
  },
  {
   "cell_type": "code",
   "execution_count": 63,
   "metadata": {
    "collapsed": true,
    "deletable": true,
    "editable": true
   },
   "outputs": [],
   "source": [
    "\"\"\"\n",
    "DON'T MODIFY ANYTHING IN THIS CELL\n",
    "\"\"\"\n",
    "# Save parameters for checkpoint\n",
    "helper.save_params(save_path)"
   ]
  },
  {
   "cell_type": "markdown",
   "metadata": {
    "deletable": true,
    "editable": true
   },
   "source": [
    "# Checkpoint"
   ]
  },
  {
   "cell_type": "code",
   "execution_count": 64,
   "metadata": {
    "collapsed": true,
    "deletable": true,
    "editable": true
   },
   "outputs": [],
   "source": [
    "\"\"\"\n",
    "DON'T MODIFY ANYTHING IN THIS CELL\n",
    "\"\"\"\n",
    "import tensorflow as tf\n",
    "import numpy as np\n",
    "import helper\n",
    "import problem_unittests as tests\n",
    "\n",
    "_, (source_vocab_to_int, target_vocab_to_int), (source_int_to_vocab, target_int_to_vocab) = helper.load_preprocess()\n",
    "load_path = helper.load_params()"
   ]
  },
  {
   "cell_type": "markdown",
   "metadata": {
    "deletable": true,
    "editable": true
   },
   "source": [
    "## Sentence to Sequence\n",
    "To feed a sentence into the model for translation, you first need to preprocess it.  Implement the function `sentence_to_seq()` to preprocess new sentences.\n",
    "\n",
    "- Convert the sentence to lowercase\n",
    "- Convert words into ids using `vocab_to_int`\n",
    " - Convert words not in the vocabulary, to the `<UNK>` word id."
   ]
  },
  {
   "cell_type": "code",
   "execution_count": 25,
   "metadata": {
    "collapsed": false,
    "deletable": true,
    "editable": true
   },
   "outputs": [
    {
     "name": "stdout",
     "output_type": "stream",
     "text": [
      "Tests Passed\n"
     ]
    }
   ],
   "source": [
    "def sentence_to_seq(sentence, vocab_to_int):\n",
    "    \"\"\"\n",
    "    Convert a sentence to a sequence of ids\n",
    "    :param sentence: String\n",
    "    :param vocab_to_int: Dictionary to go from the words to an id\n",
    "    :return: List of word ids\n",
    "    \"\"\"\n",
    "    sentence = sentence.lower()\n",
    "    #print(sentence.split())\n",
    "    #print(vocab_to_int)\n",
    "    sentence_ids = [vocab_to_int[w] if w in vocab_to_int.keys() else vocab_to_int['<UNK>'] for w in sentence.split()]\n",
    "    return sentence_ids\n",
    "\n",
    "\n",
    "\"\"\"\n",
    "DON'T MODIFY ANYTHING IN THIS CELL THAT IS BELOW THIS LINE\n",
    "\"\"\"\n",
    "tests.test_sentence_to_seq(sentence_to_seq)"
   ]
  },
  {
   "cell_type": "markdown",
   "metadata": {
    "deletable": true,
    "editable": true
   },
   "source": [
    "## Translate\n",
    "This will translate `translate_sentence` from English to French."
   ]
  },
  {
   "cell_type": "code",
   "execution_count": 65,
   "metadata": {
    "collapsed": false,
    "deletable": true,
    "editable": true
   },
   "outputs": [
    {
     "name": "stdout",
     "output_type": "stream",
     "text": [
      "INFO:tensorflow:Restoring parameters from checkpoints/dev\n",
      "Input\n",
      "  Word Ids:      [61, 151, 203, 44, 119, 82, 127]\n",
      "  English Words: ['he', 'saw', 'a', 'old', 'yellow', 'truck', '.']\n",
      "\n",
      "Prediction\n",
      "  Word Ids:      [236, 178, 310, 106, 276, 16, 106, 195, 147, 1]\n",
      "  French Words: il inde est l' cours de l' mai . <EOS>\n"
     ]
    }
   ],
   "source": [
    "translate_sentence = 'he saw a old yellow truck .'\n",
    "\n",
    "\n",
    "\"\"\"\n",
    "DON'T MODIFY ANYTHING IN THIS CELL\n",
    "\"\"\"\n",
    "translate_sentence = sentence_to_seq(translate_sentence, source_vocab_to_int)\n",
    "\n",
    "loaded_graph = tf.Graph()\n",
    "with tf.Session(graph=loaded_graph) as sess:\n",
    "    # Load saved model\n",
    "    loader = tf.train.import_meta_graph(load_path + '.meta')\n",
    "    loader.restore(sess, load_path)\n",
    "\n",
    "    input_data = loaded_graph.get_tensor_by_name('input:0')\n",
    "    logits = loaded_graph.get_tensor_by_name('predictions:0')\n",
    "    target_sequence_length = loaded_graph.get_tensor_by_name('target_sequence_length:0')\n",
    "    source_sequence_length = loaded_graph.get_tensor_by_name('source_sequence_length:0')\n",
    "    keep_prob = loaded_graph.get_tensor_by_name('keep_prob:0')\n",
    "\n",
    "    translate_logits = sess.run(logits, {input_data: [translate_sentence]*batch_size,\n",
    "                                         target_sequence_length: [len(translate_sentence)*2]*batch_size,\n",
    "                                         source_sequence_length: [len(translate_sentence)]*batch_size,\n",
    "                                         keep_prob: 1.0})[0]\n",
    "\n",
    "print('Input')\n",
    "print('  Word Ids:      {}'.format([i for i in translate_sentence]))\n",
    "print('  English Words: {}'.format([source_int_to_vocab[i] for i in translate_sentence]))\n",
    "\n",
    "print('\\nPrediction')\n",
    "print('  Word Ids:      {}'.format([i for i in translate_logits]))\n",
    "print('  French Words: {}'.format(\" \".join([target_int_to_vocab[i] for i in translate_logits])))\n"
   ]
  },
  {
   "cell_type": "markdown",
   "metadata": {
    "deletable": true,
    "editable": true
   },
   "source": [
    "## Imperfect Translation\n",
    "You might notice that some sentences translate better than others.  Since the dataset you're using only has a vocabulary of 227 English words of the thousands that you use, you're only going to see good results using these words.  For this project, you don't need a perfect translation. However, if you want to create a better translation model, you'll need better data.\n",
    "\n",
    "You can train on the [WMT10 French-English corpus](http://www.statmt.org/wmt10/training-giga-fren.tar).  This dataset has more vocabulary and richer in topics discussed.  However, this will take you days to train, so make sure you've a GPU and the neural network is performing well on dataset we provided.  Just make sure you play with the WMT10 corpus after you've submitted this project.\n",
    "## Submitting This Project\n",
    "When submitting this project, make sure to run all the cells before saving the notebook. Save the notebook file as \"dlnd_language_translation.ipynb\" and save it as a HTML file under \"File\" -> \"Download as\". Include the \"helper.py\" and \"problem_unittests.py\" files in your submission."
   ]
  }
 ],
 "metadata": {
  "anaconda-cloud": {},
  "kernelspec": {
   "display_name": "Python 3",
   "language": "python",
   "name": "python3"
  },
  "language_info": {
   "codemirror_mode": {
    "name": "ipython",
    "version": 3
   },
   "file_extension": ".py",
   "mimetype": "text/x-python",
   "name": "python",
   "nbconvert_exporter": "python",
   "pygments_lexer": "ipython3",
   "version": "3.5.2"
  }
 },
 "nbformat": 4,
 "nbformat_minor": 1
}
