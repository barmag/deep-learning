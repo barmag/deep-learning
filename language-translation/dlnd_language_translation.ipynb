{
 "cells": [
  {
   "cell_type": "markdown",
   "metadata": {
    "collapsed": true,
    "deletable": true,
    "editable": true
   },
   "source": [
    "# Language Translation\n",
    "In this project, you’re going to take a peek into the realm of neural network machine translation.  You’ll be training a sequence to sequence model on a dataset of English and French sentences that can translate new sentences from English to French.\n",
    "## Get the Data\n",
    "Since translating the whole language of English to French will take lots of time to train, we have provided you with a small portion of the English corpus."
   ]
  },
  {
   "cell_type": "code",
   "execution_count": 1,
   "metadata": {
    "collapsed": true,
    "deletable": true,
    "editable": true
   },
   "outputs": [],
   "source": [
    "\"\"\"\n",
    "DON'T MODIFY ANYTHING IN THIS CELL\n",
    "\"\"\"\n",
    "import helper\n",
    "import problem_unittests as tests\n",
    "\n",
    "source_path = 'data/small_vocab_en'\n",
    "target_path = 'data/small_vocab_fr'\n",
    "source_text = helper.load_data(source_path)\n",
    "target_text = helper.load_data(target_path)"
   ]
  },
  {
   "cell_type": "markdown",
   "metadata": {
    "deletable": true,
    "editable": true
   },
   "source": [
    "## Explore the Data\n",
    "Play around with view_sentence_range to view different parts of the data."
   ]
  },
  {
   "cell_type": "code",
   "execution_count": 2,
   "metadata": {
    "collapsed": false,
    "deletable": true,
    "editable": true
   },
   "outputs": [
    {
     "name": "stdout",
     "output_type": "stream",
     "text": [
      "Dataset Stats\n",
      "Roughly the number of unique words: 227\n",
      "Number of sentences: 137861\n",
      "Average number of words in a sentence: 13.225277634719028\n",
      "\n",
      "English sentences 0 to 10:\n",
      "new jersey is sometimes quiet during autumn , and it is snowy in april .\n",
      "the united states is usually chilly during july , and it is usually freezing in november .\n",
      "california is usually quiet during march , and it is usually hot in june .\n",
      "the united states is sometimes mild during june , and it is cold in september .\n",
      "your least liked fruit is the grape , but my least liked is the apple .\n",
      "his favorite fruit is the orange , but my favorite is the grape .\n",
      "paris is relaxing during december , but it is usually chilly in july .\n",
      "new jersey is busy during spring , and it is never hot in march .\n",
      "our least liked fruit is the lemon , but my least liked is the grape .\n",
      "the united states is sometimes busy during january , and it is sometimes warm in november .\n",
      "\n",
      "French sentences 0 to 10:\n",
      "new jersey est parfois calme pendant l' automne , et il est neigeux en avril .\n",
      "les états-unis est généralement froid en juillet , et il gèle habituellement en novembre .\n",
      "california est généralement calme en mars , et il est généralement chaud en juin .\n",
      "les états-unis est parfois légère en juin , et il fait froid en septembre .\n",
      "votre moins aimé fruit est le raisin , mais mon moins aimé est la pomme .\n",
      "son fruit préféré est l'orange , mais mon préféré est le raisin .\n",
      "paris est relaxant en décembre , mais il est généralement froid en juillet .\n",
      "new jersey est occupé au printemps , et il est jamais chaude en mars .\n",
      "notre fruit est moins aimé le citron , mais mon moins aimé est le raisin .\n",
      "les états-unis est parfois occupé en janvier , et il est parfois chaud en novembre .\n"
     ]
    }
   ],
   "source": [
    "view_sentence_range = (0, 10)\n",
    "\n",
    "\"\"\"\n",
    "DON'T MODIFY ANYTHING IN THIS CELL\n",
    "\"\"\"\n",
    "import numpy as np\n",
    "\n",
    "print('Dataset Stats')\n",
    "print('Roughly the number of unique words: {}'.format(len({word: None for word in source_text.split()})))\n",
    "\n",
    "sentences = source_text.split('\\n')\n",
    "word_counts = [len(sentence.split()) for sentence in sentences]\n",
    "print('Number of sentences: {}'.format(len(sentences)))\n",
    "print('Average number of words in a sentence: {}'.format(np.average(word_counts)))\n",
    "\n",
    "print()\n",
    "print('English sentences {} to {}:'.format(*view_sentence_range))\n",
    "print('\\n'.join(source_text.split('\\n')[view_sentence_range[0]:view_sentence_range[1]]))\n",
    "print()\n",
    "print('French sentences {} to {}:'.format(*view_sentence_range))\n",
    "print('\\n'.join(target_text.split('\\n')[view_sentence_range[0]:view_sentence_range[1]]))"
   ]
  },
  {
   "cell_type": "markdown",
   "metadata": {
    "deletable": true,
    "editable": true
   },
   "source": [
    "## Implement Preprocessing Function\n",
    "### Text to Word Ids\n",
    "As you did with other RNNs, you must turn the text into a number so the computer can understand it. In the function `text_to_ids()`, you'll turn `source_text` and `target_text` from words to ids.  However, you need to add the `<EOS>` word id at the end of `target_text`.  This will help the neural network predict when the sentence should end.\n",
    "\n",
    "You can get the `<EOS>` word id by doing:\n",
    "```python\n",
    "target_vocab_to_int['<EOS>']\n",
    "```\n",
    "You can get other word ids using `source_vocab_to_int` and `target_vocab_to_int`."
   ]
  },
  {
   "cell_type": "code",
   "execution_count": 3,
   "metadata": {
    "collapsed": false,
    "deletable": true,
    "editable": true
   },
   "outputs": [
    {
     "name": "stdout",
     "output_type": "stream",
     "text": [
      "Tests Passed\n"
     ]
    }
   ],
   "source": [
    "def text_to_ids(source_text, target_text, source_vocab_to_int, target_vocab_to_int):\n",
    "    \"\"\"\n",
    "    Convert source and target text to proper word ids\n",
    "    :param source_text: String that contains all the source text.\n",
    "    :param target_text: String that contains all the target text.\n",
    "    :param source_vocab_to_int: Dictionary to go from the source words to an id\n",
    "    :param target_vocab_to_int: Dictionary to go from the target words to an id\n",
    "    :return: A tuple of lists (source_id_text, target_id_text)\n",
    "    \"\"\"\n",
    "    source_sentences = source_text.split('\\n')\n",
    "    #print(source_sentences)\n",
    "    source_id_text = [[source_vocab_to_int[word] for word in sentence.split()] for sentence in source_sentences]\n",
    "    #print(source_id_text)\n",
    "    target_sentences = [sentence + \" <EOS>\" for sentence in target_text.split('\\n')]\n",
    "    target_id_text = [[target_vocab_to_int[word] for word in sentence.split()] for sentence in target_sentences]\n",
    "    \n",
    "    return source_id_text, target_id_text\n",
    "\n",
    "\"\"\"\n",
    "DON'T MODIFY ANYTHING IN THIS CELL THAT IS BELOW THIS LINE\n",
    "\"\"\"\n",
    "tests.test_text_to_ids(text_to_ids)"
   ]
  },
  {
   "cell_type": "markdown",
   "metadata": {
    "deletable": true,
    "editable": true
   },
   "source": [
    "### Preprocess all the data and save it\n",
    "Running the code cell below will preprocess all the data and save it to file."
   ]
  },
  {
   "cell_type": "code",
   "execution_count": 4,
   "metadata": {
    "collapsed": true,
    "deletable": true,
    "editable": true
   },
   "outputs": [],
   "source": [
    "\"\"\"\n",
    "DON'T MODIFY ANYTHING IN THIS CELL\n",
    "\"\"\"\n",
    "helper.preprocess_and_save_data(source_path, target_path, text_to_ids)"
   ]
  },
  {
   "cell_type": "markdown",
   "metadata": {
    "deletable": true,
    "editable": true
   },
   "source": [
    "# Check Point\n",
    "This is your first checkpoint. If you ever decide to come back to this notebook or have to restart the notebook, you can start from here. The preprocessed data has been saved to disk."
   ]
  },
  {
   "cell_type": "code",
   "execution_count": 5,
   "metadata": {
    "collapsed": true,
    "deletable": true,
    "editable": true
   },
   "outputs": [],
   "source": [
    "\"\"\"\n",
    "DON'T MODIFY ANYTHING IN THIS CELL\n",
    "\"\"\"\n",
    "import numpy as np\n",
    "import helper\n",
    "import problem_unittests as tests\n",
    "\n",
    "(source_int_text, target_int_text), (source_vocab_to_int, target_vocab_to_int), _ = helper.load_preprocess()"
   ]
  },
  {
   "cell_type": "markdown",
   "metadata": {
    "deletable": true,
    "editable": true
   },
   "source": [
    "### Check the Version of TensorFlow and Access to GPU\n",
    "This will check to make sure you have the correct version of TensorFlow and access to a GPU"
   ]
  },
  {
   "cell_type": "code",
   "execution_count": 6,
   "metadata": {
    "collapsed": false,
    "deletable": true,
    "editable": true
   },
   "outputs": [
    {
     "name": "stdout",
     "output_type": "stream",
     "text": [
      "TensorFlow Version: 1.2.1\n",
      "Default GPU Device: /gpu:0\n"
     ]
    }
   ],
   "source": [
    "\"\"\"\n",
    "DON'T MODIFY ANYTHING IN THIS CELL\n",
    "\"\"\"\n",
    "from distutils.version import LooseVersion\n",
    "import warnings\n",
    "import tensorflow as tf\n",
    "from tensorflow.python.layers.core import Dense\n",
    "\n",
    "# Check TensorFlow Version\n",
    "assert LooseVersion(tf.__version__) >= LooseVersion('1.1'), 'Please use TensorFlow version 1.1 or newer'\n",
    "print('TensorFlow Version: {}'.format(tf.__version__))\n",
    "\n",
    "# Check for a GPU\n",
    "if not tf.test.gpu_device_name():\n",
    "    warnings.warn('No GPU found. Please use a GPU to train your neural network.')\n",
    "else:\n",
    "    print('Default GPU Device: {}'.format(tf.test.gpu_device_name()))"
   ]
  },
  {
   "cell_type": "markdown",
   "metadata": {
    "deletable": true,
    "editable": true
   },
   "source": [
    "## Build the Neural Network\n",
    "You'll build the components necessary to build a Sequence-to-Sequence model by implementing the following functions below:\n",
    "- `model_inputs`\n",
    "- `process_decoder_input`\n",
    "- `encoding_layer`\n",
    "- `decoding_layer_train`\n",
    "- `decoding_layer_infer`\n",
    "- `decoding_layer`\n",
    "- `seq2seq_model`\n",
    "\n",
    "### Input\n",
    "Implement the `model_inputs()` function to create TF Placeholders for the Neural Network. It should create the following placeholders:\n",
    "\n",
    "- Input text placeholder named \"input\" using the TF Placeholder name parameter with rank 2.\n",
    "- Targets placeholder with rank 2.\n",
    "- Learning rate placeholder with rank 0.\n",
    "- Keep probability placeholder named \"keep_prob\" using the TF Placeholder name parameter with rank 0.\n",
    "- Target sequence length placeholder named \"target_sequence_length\" with rank 1\n",
    "- Max target sequence length tensor named \"max_target_len\" getting its value from applying tf.reduce_max on the target_sequence_length placeholder. Rank 0.\n",
    "- Source sequence length placeholder named \"source_sequence_length\" with rank 1\n",
    "\n",
    "Return the placeholders in the following the tuple (input, targets, learning rate, keep probability, target sequence length, max target sequence length, source sequence length)"
   ]
  },
  {
   "cell_type": "code",
   "execution_count": 7,
   "metadata": {
    "collapsed": false,
    "deletable": true,
    "editable": true
   },
   "outputs": [
    {
     "name": "stdout",
     "output_type": "stream",
     "text": [
      "ERROR:tensorflow:==================================\n",
      "Object was never used (type <class 'tensorflow.python.framework.ops.Operation'>):\n",
      "<tf.Operation 'assert_rank_2/Assert/Assert' type=Assert>\n",
      "If you want to mark it as used call its \"mark_used()\" method.\n",
      "It was originally created here:\n",
      "['File \"/anaconda/envs/py35/lib/python3.5/runpy.py\", line 184, in _run_module_as_main\\n    \"__main__\", mod_spec)', 'File \"/anaconda/envs/py35/lib/python3.5/runpy.py\", line 85, in _run_code\\n    exec(code, run_globals)', 'File \"/anaconda/envs/py35/lib/python3.5/site-packages/ipykernel_launcher.py\", line 16, in <module>\\n    app.launch_new_instance()', 'File \"/anaconda/envs/py35/lib/python3.5/site-packages/traitlets/config/application.py\", line 658, in launch_instance\\n    app.start()', 'File \"/anaconda/envs/py35/lib/python3.5/site-packages/ipykernel/kernelapp.py\", line 477, in start\\n    ioloop.IOLoop.instance().start()', 'File \"/anaconda/envs/py35/lib/python3.5/site-packages/zmq/eventloop/ioloop.py\", line 177, in start\\n    super(ZMQIOLoop, self).start()', 'File \"/anaconda/envs/py35/lib/python3.5/site-packages/tornado/ioloop.py\", line 888, in start\\n    handler_func(fd_obj, events)', 'File \"/anaconda/envs/py35/lib/python3.5/site-packages/tornado/stack_context.py\", line 277, in null_wrapper\\n    return fn(*args, **kwargs)', 'File \"/anaconda/envs/py35/lib/python3.5/site-packages/zmq/eventloop/zmqstream.py\", line 440, in _handle_events\\n    self._handle_recv()', 'File \"/anaconda/envs/py35/lib/python3.5/site-packages/zmq/eventloop/zmqstream.py\", line 472, in _handle_recv\\n    self._run_callback(callback, msg)', 'File \"/anaconda/envs/py35/lib/python3.5/site-packages/zmq/eventloop/zmqstream.py\", line 414, in _run_callback\\n    callback(*args, **kwargs)', 'File \"/anaconda/envs/py35/lib/python3.5/site-packages/tornado/stack_context.py\", line 277, in null_wrapper\\n    return fn(*args, **kwargs)', 'File \"/anaconda/envs/py35/lib/python3.5/site-packages/ipykernel/kernelbase.py\", line 283, in dispatcher\\n    return self.dispatch_shell(stream, msg)', 'File \"/anaconda/envs/py35/lib/python3.5/site-packages/ipykernel/kernelbase.py\", line 235, in dispatch_shell\\n    handler(stream, idents, msg)', 'File \"/anaconda/envs/py35/lib/python3.5/site-packages/ipykernel/kernelbase.py\", line 399, in execute_request\\n    user_expressions, allow_stdin)', 'File \"/anaconda/envs/py35/lib/python3.5/site-packages/ipykernel/ipkernel.py\", line 196, in do_execute\\n    res = shell.run_cell(code, store_history=store_history, silent=silent)', 'File \"/anaconda/envs/py35/lib/python3.5/site-packages/ipykernel/zmqshell.py\", line 533, in run_cell\\n    return super(ZMQInteractiveShell, self).run_cell(*args, **kwargs)', 'File \"/anaconda/envs/py35/lib/python3.5/site-packages/IPython/core/interactiveshell.py\", line 2723, in run_cell\\n    interactivity=interactivity, compiler=compiler, result=result)', 'File \"/anaconda/envs/py35/lib/python3.5/site-packages/IPython/core/interactiveshell.py\", line 2831, in run_ast_nodes\\n    if self.run_code(code, result):', 'File \"/anaconda/envs/py35/lib/python3.5/site-packages/IPython/core/interactiveshell.py\", line 2885, in run_code\\n    exec(code_obj, self.user_global_ns, self.user_ns)', 'File \"<ipython-input-7-dda882cfde97>\", line 23, in <module>\\n    tests.test_model_inputs(model_inputs)', 'File \"/home/yassermakram/projects/dlnd/deep-learning/language-translation/problem_unittests.py\", line 106, in test_model_inputs\\n    assert tf.assert_rank(lr, 0, message=\\'Learning Rate has wrong rank\\')', 'File \"/anaconda/envs/py35/lib/python3.5/site-packages/tensorflow/python/ops/check_ops.py\", line 617, in assert_rank\\n    dynamic_condition, data, summarize)', 'File \"/anaconda/envs/py35/lib/python3.5/site-packages/tensorflow/python/ops/check_ops.py\", line 571, in _assert_rank_condition\\n    return control_flow_ops.Assert(condition, data, summarize=summarize)', 'File \"/anaconda/envs/py35/lib/python3.5/site-packages/tensorflow/python/util/tf_should_use.py\", line 170, in wrapped\\n    return _add_should_use_warning(fn(*args, **kwargs))', 'File \"/anaconda/envs/py35/lib/python3.5/site-packages/tensorflow/python/util/tf_should_use.py\", line 139, in _add_should_use_warning\\n    wrapped = TFShouldUseWarningWrapper(x)', 'File \"/anaconda/envs/py35/lib/python3.5/site-packages/tensorflow/python/util/tf_should_use.py\", line 96, in __init__\\n    stack = [s.strip() for s in traceback.format_stack()]']\n",
      "==================================\n",
      "ERROR:tensorflow:==================================\n",
      "Object was never used (type <class 'tensorflow.python.framework.ops.Operation'>):\n",
      "<tf.Operation 'assert_rank_3/Assert/Assert' type=Assert>\n",
      "If you want to mark it as used call its \"mark_used()\" method.\n",
      "It was originally created here:\n",
      "['File \"/anaconda/envs/py35/lib/python3.5/runpy.py\", line 184, in _run_module_as_main\\n    \"__main__\", mod_spec)', 'File \"/anaconda/envs/py35/lib/python3.5/runpy.py\", line 85, in _run_code\\n    exec(code, run_globals)', 'File \"/anaconda/envs/py35/lib/python3.5/site-packages/ipykernel_launcher.py\", line 16, in <module>\\n    app.launch_new_instance()', 'File \"/anaconda/envs/py35/lib/python3.5/site-packages/traitlets/config/application.py\", line 658, in launch_instance\\n    app.start()', 'File \"/anaconda/envs/py35/lib/python3.5/site-packages/ipykernel/kernelapp.py\", line 477, in start\\n    ioloop.IOLoop.instance().start()', 'File \"/anaconda/envs/py35/lib/python3.5/site-packages/zmq/eventloop/ioloop.py\", line 177, in start\\n    super(ZMQIOLoop, self).start()', 'File \"/anaconda/envs/py35/lib/python3.5/site-packages/tornado/ioloop.py\", line 888, in start\\n    handler_func(fd_obj, events)', 'File \"/anaconda/envs/py35/lib/python3.5/site-packages/tornado/stack_context.py\", line 277, in null_wrapper\\n    return fn(*args, **kwargs)', 'File \"/anaconda/envs/py35/lib/python3.5/site-packages/zmq/eventloop/zmqstream.py\", line 440, in _handle_events\\n    self._handle_recv()', 'File \"/anaconda/envs/py35/lib/python3.5/site-packages/zmq/eventloop/zmqstream.py\", line 472, in _handle_recv\\n    self._run_callback(callback, msg)', 'File \"/anaconda/envs/py35/lib/python3.5/site-packages/zmq/eventloop/zmqstream.py\", line 414, in _run_callback\\n    callback(*args, **kwargs)', 'File \"/anaconda/envs/py35/lib/python3.5/site-packages/tornado/stack_context.py\", line 277, in null_wrapper\\n    return fn(*args, **kwargs)', 'File \"/anaconda/envs/py35/lib/python3.5/site-packages/ipykernel/kernelbase.py\", line 283, in dispatcher\\n    return self.dispatch_shell(stream, msg)', 'File \"/anaconda/envs/py35/lib/python3.5/site-packages/ipykernel/kernelbase.py\", line 235, in dispatch_shell\\n    handler(stream, idents, msg)', 'File \"/anaconda/envs/py35/lib/python3.5/site-packages/ipykernel/kernelbase.py\", line 399, in execute_request\\n    user_expressions, allow_stdin)', 'File \"/anaconda/envs/py35/lib/python3.5/site-packages/ipykernel/ipkernel.py\", line 196, in do_execute\\n    res = shell.run_cell(code, store_history=store_history, silent=silent)', 'File \"/anaconda/envs/py35/lib/python3.5/site-packages/ipykernel/zmqshell.py\", line 533, in run_cell\\n    return super(ZMQInteractiveShell, self).run_cell(*args, **kwargs)', 'File \"/anaconda/envs/py35/lib/python3.5/site-packages/IPython/core/interactiveshell.py\", line 2723, in run_cell\\n    interactivity=interactivity, compiler=compiler, result=result)', 'File \"/anaconda/envs/py35/lib/python3.5/site-packages/IPython/core/interactiveshell.py\", line 2831, in run_ast_nodes\\n    if self.run_code(code, result):', 'File \"/anaconda/envs/py35/lib/python3.5/site-packages/IPython/core/interactiveshell.py\", line 2885, in run_code\\n    exec(code_obj, self.user_global_ns, self.user_ns)', 'File \"<ipython-input-7-dda882cfde97>\", line 23, in <module>\\n    tests.test_model_inputs(model_inputs)', 'File \"/home/yassermakram/projects/dlnd/deep-learning/language-translation/problem_unittests.py\", line 107, in test_model_inputs\\n    assert tf.assert_rank(keep_prob, 0, message=\\'Keep Probability has wrong rank\\')', 'File \"/anaconda/envs/py35/lib/python3.5/site-packages/tensorflow/python/ops/check_ops.py\", line 617, in assert_rank\\n    dynamic_condition, data, summarize)', 'File \"/anaconda/envs/py35/lib/python3.5/site-packages/tensorflow/python/ops/check_ops.py\", line 571, in _assert_rank_condition\\n    return control_flow_ops.Assert(condition, data, summarize=summarize)', 'File \"/anaconda/envs/py35/lib/python3.5/site-packages/tensorflow/python/util/tf_should_use.py\", line 170, in wrapped\\n    return _add_should_use_warning(fn(*args, **kwargs))', 'File \"/anaconda/envs/py35/lib/python3.5/site-packages/tensorflow/python/util/tf_should_use.py\", line 139, in _add_should_use_warning\\n    wrapped = TFShouldUseWarningWrapper(x)', 'File \"/anaconda/envs/py35/lib/python3.5/site-packages/tensorflow/python/util/tf_should_use.py\", line 96, in __init__\\n    stack = [s.strip() for s in traceback.format_stack()]']\n",
      "==================================\n",
      "Tests Passed\n"
     ]
    }
   ],
   "source": [
    "def model_inputs():\n",
    "    \"\"\"\n",
    "    Create TF Placeholders for input, targets, learning rate, and lengths of source and target sequences.\n",
    "    :return: Tuple (input, targets, learning rate, keep probability, target sequence length,\n",
    "    max target sequence length, source sequence length)\n",
    "    \"\"\"\n",
    "    inputs = tf.placeholder(tf.int32, [None, None], name=\"input\")\n",
    "    targets = tf.placeholder(tf.int32, [None, None], name=\"target\")\n",
    "\n",
    "    learning_rate = tf.placeholder(tf.float32, name=\"learning_rate\")\n",
    "    keep_prob = tf.placeholder(tf.float32, name=\"keep_prob\")\n",
    "\n",
    "    target_seq_length = tf.placeholder(tf.int32, (None,), name=\"target_sequence_length\")\n",
    "    max_target_length = tf.reduce_max(target_seq_length, name=\"max_target_length\")\n",
    "    source_seq_length = tf.placeholder(tf.int32, (None,), name=\"source_sequence_length\")\n",
    "\n",
    "    return inputs, targets, learning_rate, keep_prob, target_seq_length, max_target_length, source_seq_length\n",
    "\n",
    "\n",
    "\"\"\"\n",
    "DON'T MODIFY ANYTHING IN THIS CELL THAT IS BELOW THIS LINE\n",
    "\"\"\"\n",
    "tests.test_model_inputs(model_inputs)"
   ]
  },
  {
   "cell_type": "markdown",
   "metadata": {
    "deletable": true,
    "editable": true
   },
   "source": [
    "### Process Decoder Input\n",
    "Implement `process_decoder_input` by removing the last word id from each batch in `target_data` and concat the GO ID to the begining of each batch."
   ]
  },
  {
   "cell_type": "code",
   "execution_count": 8,
   "metadata": {
    "collapsed": false,
    "deletable": true,
    "editable": true
   },
   "outputs": [
    {
     "name": "stdout",
     "output_type": "stream",
     "text": [
      "Tests Passed\n"
     ]
    }
   ],
   "source": [
    "def process_decoder_input(target_data, target_vocab_to_int, batch_size):\n",
    "    \"\"\"\n",
    "    Preprocess target data for encoding\n",
    "    :param target_data: Target Placehoder\n",
    "    :param target_vocab_to_int: Dictionary to go from the target words to an id\n",
    "    :param batch_size: Batch Size\n",
    "    :return: Preprocessed target data\n",
    "    \"\"\"\n",
    "    decoder_input = tf.strided_slice(target_data, [0,0], [batch_size, -1], [1,1])\n",
    "    decoder_input = tf.concat([tf.fill([batch_size, 1], target_vocab_to_int['<GO>']), decoder_input], 1)\n",
    "    return decoder_input\n",
    "\n",
    "\"\"\"\n",
    "DON'T MODIFY ANYTHING IN THIS CELL THAT IS BELOW THIS LINE\n",
    "\"\"\"\n",
    "tests.test_process_encoding_input(process_decoder_input)"
   ]
  },
  {
   "cell_type": "markdown",
   "metadata": {
    "deletable": true,
    "editable": true
   },
   "source": [
    "### Encoding\n",
    "Implement `encoding_layer()` to create a Encoder RNN layer:\n",
    " * Embed the encoder input using [`tf.contrib.layers.embed_sequence`](https://www.tensorflow.org/api_docs/python/tf/contrib/layers/embed_sequence)\n",
    " * Construct a [stacked](https://github.com/tensorflow/tensorflow/blob/6947f65a374ebf29e74bb71e36fd82760056d82c/tensorflow/docs_src/tutorials/recurrent.md#stacking-multiple-lstms) [`tf.contrib.rnn.LSTMCell`](https://www.tensorflow.org/api_docs/python/tf/contrib/rnn/LSTMCell) wrapped in a [`tf.contrib.rnn.DropoutWrapper`](https://www.tensorflow.org/api_docs/python/tf/contrib/rnn/DropoutWrapper)\n",
    " * Pass cell and embedded input to [`tf.nn.dynamic_rnn()`](https://www.tensorflow.org/api_docs/python/tf/nn/dynamic_rnn)"
   ]
  },
  {
   "cell_type": "code",
   "execution_count": 9,
   "metadata": {
    "collapsed": false,
    "deletable": true,
    "editable": true,
    "scrolled": false
   },
   "outputs": [
    {
     "name": "stdout",
     "output_type": "stream",
     "text": [
      "Tests Passed\n"
     ]
    }
   ],
   "source": [
    "from imp import reload\n",
    "reload(tests)\n",
    "\n",
    "def encoding_layer(rnn_inputs, rnn_size, num_layers, keep_prob, \n",
    "                   source_sequence_length, source_vocab_size, \n",
    "                   encoding_embedding_size):\n",
    "    \"\"\"\n",
    "    Create encoding layer\n",
    "    :param rnn_inputs: Inputs for the RNN\n",
    "    :param rnn_size: RNN Size\n",
    "    :param num_layers: Number of layers\n",
    "    :param keep_prob: Dropout keep probability\n",
    "    :param source_sequence_length: a list of the lengths of each sequence in the batch\n",
    "    :param source_vocab_size: vocabulary size of source data\n",
    "    :param encoding_embedding_size: embedding size of source data\n",
    "    :return: tuple (RNN output, RNN state)\n",
    "    \"\"\"\n",
    "    embed = tf.contrib.layers.embed_sequence(rnn_inputs, source_vocab_size, encoding_embedding_size)\n",
    "\n",
    "    def lstm_cell(size):\n",
    "        cell = tf.contrib.rnn.LSTMCell(size,\n",
    "                                       initializer=tf.random_uniform_initializer(-0.1,0.1,seed=7))\n",
    "        dropout = tf.contrib.rnn.DropoutWrapper(cell, input_keep_prob=keep_prob)\n",
    "        return dropout\n",
    "    rnn_cell = tf.contrib.rnn.MultiRNNCell([lstm_cell(rnn_size) for _ in range(0, num_layers)])\n",
    "\n",
    "    rnn_out, rnn_state = tf.nn.dynamic_rnn(rnn_cell, embed, source_sequence_length, dtype=tf.float32)\n",
    "    return rnn_out, rnn_state\n",
    "\n",
    "\"\"\"\n",
    "DON'T MODIFY ANYTHING IN THIS CELL THAT IS BELOW THIS LINE\n",
    "\"\"\"\n",
    "tests.test_encoding_layer(encoding_layer)"
   ]
  },
  {
   "cell_type": "markdown",
   "metadata": {
    "deletable": true,
    "editable": true
   },
   "source": [
    "### Decoding - Training\n",
    "Create a training decoding layer:\n",
    "* Create a [`tf.contrib.seq2seq.TrainingHelper`](https://www.tensorflow.org/api_docs/python/tf/contrib/seq2seq/TrainingHelper) \n",
    "* Create a [`tf.contrib.seq2seq.BasicDecoder`](https://www.tensorflow.org/api_docs/python/tf/contrib/seq2seq/BasicDecoder)\n",
    "* Obtain the decoder outputs from [`tf.contrib.seq2seq.dynamic_decode`](https://www.tensorflow.org/api_docs/python/tf/contrib/seq2seq/dynamic_decode)"
   ]
  },
  {
   "cell_type": "code",
   "execution_count": 10,
   "metadata": {
    "collapsed": false,
    "deletable": true,
    "editable": true
   },
   "outputs": [
    {
     "name": "stdout",
     "output_type": "stream",
     "text": [
      "Tests Passed\n"
     ]
    }
   ],
   "source": [
    "\n",
    "def decoding_layer_train(encoder_state, dec_cell, dec_embed_input, \n",
    "                         target_sequence_length, max_summary_length, \n",
    "                         output_layer, keep_prob):\n",
    "    \"\"\"\n",
    "    Create a decoding layer for training\n",
    "    :param encoder_state: Encoder State\n",
    "    :param dec_cell: Decoder RNN Cell\n",
    "    :param dec_embed_input: Decoder embedded input\n",
    "    :param target_sequence_length: The lengths of each sequence in the target batch\n",
    "    :param max_summary_length: The length of the longest sequence in the batch\n",
    "    :param output_layer: Function to apply the output layer\n",
    "    :param keep_prob: Dropout keep probability\n",
    "    :return: BasicDecoderOutput containing training logits and sample_id\n",
    "    \"\"\"\n",
    "    helper = tf.contrib.seq2seq.TrainingHelper(dec_embed_input, target_sequence_length)\n",
    "\n",
    "    decoder = tf.contrib.seq2seq.BasicDecoder(dec_cell, helper, encoder_state, output_layer=output_layer)\n",
    "    decoder_out = tf.contrib.seq2seq.dynamic_decode(decoder, impute_finished=True, maximum_iterations=max_summary_length)\n",
    "    \n",
    "    return decoder_out[0]\n",
    "\n",
    "\n",
    "\n",
    "\"\"\"\n",
    "DON'T MODIFY ANYTHING IN THIS CELL THAT IS BELOW THIS LINE\n",
    "\"\"\"\n",
    "tests.test_decoding_layer_train(decoding_layer_train)"
   ]
  },
  {
   "cell_type": "markdown",
   "metadata": {
    "deletable": true,
    "editable": true
   },
   "source": [
    "### Decoding - Inference\n",
    "Create inference decoder:\n",
    "* Create a [`tf.contrib.seq2seq.GreedyEmbeddingHelper`](https://www.tensorflow.org/api_docs/python/tf/contrib/seq2seq/GreedyEmbeddingHelper)\n",
    "* Create a [`tf.contrib.seq2seq.BasicDecoder`](https://www.tensorflow.org/api_docs/python/tf/contrib/seq2seq/BasicDecoder)\n",
    "* Obtain the decoder outputs from [`tf.contrib.seq2seq.dynamic_decode`](https://www.tensorflow.org/api_docs/python/tf/contrib/seq2seq/dynamic_decode)"
   ]
  },
  {
   "cell_type": "code",
   "execution_count": 11,
   "metadata": {
    "collapsed": false,
    "deletable": true,
    "editable": true,
    "scrolled": true
   },
   "outputs": [
    {
     "name": "stdout",
     "output_type": "stream",
     "text": [
      "Tests Passed\n"
     ]
    }
   ],
   "source": [
    "def decoding_layer_infer(encoder_state, dec_cell, dec_embeddings, start_of_sequence_id,\n",
    "                         end_of_sequence_id, max_target_sequence_length,\n",
    "                         vocab_size, output_layer, batch_size, keep_prob):\n",
    "    \"\"\"\n",
    "    Create a decoding layer for inference\n",
    "    :param encoder_state: Encoder state\n",
    "    :param dec_cell: Decoder RNN Cell\n",
    "    :param dec_embeddings: Decoder embeddings\n",
    "    :param start_of_sequence_id: GO ID\n",
    "    :param end_of_sequence_id: EOS Id\n",
    "    :param max_target_sequence_length: Maximum length of target sequences\n",
    "    :param vocab_size: Size of decoder/target vocabulary\n",
    "    :param decoding_scope: TenorFlow Variable Scope for decoding\n",
    "    :param output_layer: Function to apply the output layer\n",
    "    :param batch_size: Batch size\n",
    "    :param keep_prob: Dropout keep probability\n",
    "    :return: BasicDecoderOutput containing inference logits and sample_id\n",
    "    \"\"\"\n",
    "    start_tokens = tf.tile(tf.constant([start_of_sequence_id], dtype=tf.int32), [batch_size])\n",
    "    helper = tf.contrib.seq2seq.GreedyEmbeddingHelper(dec_embeddings, start_tokens, end_of_sequence_id)\n",
    "\n",
    "    decoder = tf.contrib.seq2seq.BasicDecoder(dec_cell, helper, encoder_state, output_layer=output_layer)\n",
    "    decoder_out = tf.contrib.seq2seq.dynamic_decode(decoder, impute_finished=True, maximum_iterations=max_target_sequence_length)\n",
    "    \n",
    "    return decoder_out[0]\n",
    "\n",
    "\n",
    "\n",
    "\"\"\"\n",
    "DON'T MODIFY ANYTHING IN THIS CELL THAT IS BELOW THIS LINE\n",
    "\"\"\"\n",
    "tests.test_decoding_layer_infer(decoding_layer_infer)"
   ]
  },
  {
   "cell_type": "markdown",
   "metadata": {
    "deletable": true,
    "editable": true
   },
   "source": [
    "### Build the Decoding Layer\n",
    "Implement `decoding_layer()` to create a Decoder RNN layer.\n",
    "\n",
    "* Embed the target sequences\n",
    "* Construct the decoder LSTM cell (just like you constructed the encoder cell above)\n",
    "* Create an output layer to map the outputs of the decoder to the elements of our vocabulary\n",
    "* Use the your `decoding_layer_train(encoder_state, dec_cell, dec_embed_input, target_sequence_length, max_target_sequence_length, output_layer, keep_prob)` function to get the training logits.\n",
    "* Use your `decoding_layer_infer(encoder_state, dec_cell, dec_embeddings, start_of_sequence_id, end_of_sequence_id, max_target_sequence_length, vocab_size, output_layer, batch_size, keep_prob)` function to get the inference logits.\n",
    "\n",
    "Note: You'll need to use [tf.variable_scope](https://www.tensorflow.org/api_docs/python/tf/variable_scope) to share variables between training and inference."
   ]
  },
  {
   "cell_type": "code",
   "execution_count": 12,
   "metadata": {
    "collapsed": false,
    "deletable": true,
    "editable": true
   },
   "outputs": [
    {
     "name": "stdout",
     "output_type": "stream",
     "text": [
      "Tests Passed\n"
     ]
    }
   ],
   "source": [
    "from tensorflow.python.layers.core import Dense\n",
    "def decoding_layer(dec_input, encoder_state,\n",
    "                   target_sequence_length, max_target_sequence_length,\n",
    "                   rnn_size,\n",
    "                   num_layers, target_vocab_to_int, target_vocab_size,\n",
    "                   batch_size, keep_prob, decoding_embedding_size):\n",
    "    \"\"\"\n",
    "    Create decoding layer\n",
    "    :param dec_input: Decoder input\n",
    "    :param encoder_state: Encoder state\n",
    "    :param target_sequence_length: The lengths of each sequence in the target batch\n",
    "    :param max_target_sequence_length: Maximum length of target sequences\n",
    "    :param rnn_size: RNN Size\n",
    "    :param num_layers: Number of layers\n",
    "    :param target_vocab_to_int: Dictionary to go from the target words to an id\n",
    "    :param target_vocab_size: Size of target vocabulary\n",
    "    :param batch_size: The size of the batch\n",
    "    :param keep_prob: Dropout keep probability\n",
    "    :param decoding_embedding_size: Decoding embedding size\n",
    "    :return: Tuple of (Training BasicDecoderOutput, Inference BasicDecoderOutput)\n",
    "    \"\"\"\n",
    "    dec_embeddings = tf.Variable(tf.random_uniform([target_vocab_size, decoding_embedding_size]))\n",
    "    embed = tf.nn.embedding_lookup(dec_embeddings, dec_input)\n",
    "\n",
    "    def lstm_cell(size):\n",
    "        cell = tf.contrib.rnn.LSTMCell(size,\n",
    "                                       initializer=tf.random_uniform_initializer(-0.1,0.1,seed=7))\n",
    "        dropout = tf.contrib.rnn.DropoutWrapper(cell, input_keep_prob=keep_prob, output_keep_prob=keep_prob)\n",
    "        return dropout\n",
    "    rnn_cell = tf.contrib.rnn.MultiRNNCell([lstm_cell(rnn_size) for _ in range(0, num_layers)])\n",
    "\n",
    "    #rnn_out, rnn_state = tf.nn.dynamic_rnn(rnn_cell, embed, target_sequence_length, dtype=tf.float32)\n",
    "\n",
    "    #dense layer\n",
    "    output_layer = Dense(target_vocab_size, \n",
    "                                activation=None     #linear activation\n",
    "                                , kernel_initializer = tf.truncated_normal_initializer(mean = 0.0, stddev=0.1))\n",
    "    with tf.variable_scope('decode'):\n",
    "        training_decoder_out = decoding_layer_train(encoder_state, rnn_cell, embed\n",
    "                                                    , target_sequence_length, max_target_sequence_length, output_layer, keep_prob)\n",
    "\n",
    "    with tf.variable_scope('decode', reuse=True):\n",
    "        #print(dec_input.shape)\n",
    "        inference_decoder_output = decoding_layer_infer(encoder_state, rnn_cell, dec_embeddings\n",
    "                                                        , target_vocab_to_int['<GO>'], target_vocab_to_int['<EOS>']\n",
    "                                                        , max_target_sequence_length, target_vocab_size, output_layer\n",
    "                                                        , batch_size, keep_prob)\n",
    "\n",
    "    return training_decoder_out, inference_decoder_output\n",
    "\n",
    "\n",
    "\n",
    "\"\"\"\n",
    "DON'T MODIFY ANYTHING IN THIS CELL THAT IS BELOW THIS LINE\n",
    "\"\"\"\n",
    "tests.test_decoding_layer(decoding_layer)"
   ]
  },
  {
   "cell_type": "markdown",
   "metadata": {
    "deletable": true,
    "editable": true
   },
   "source": [
    "### Build the Neural Network\n",
    "Apply the functions you implemented above to:\n",
    "\n",
    "- Encode the input using your `encoding_layer(rnn_inputs, rnn_size, num_layers, keep_prob,  source_sequence_length, source_vocab_size, encoding_embedding_size)`.\n",
    "- Process target data using your `process_decoder_input(target_data, target_vocab_to_int, batch_size)` function.\n",
    "- Decode the encoded input using your `decoding_layer(dec_input, enc_state, target_sequence_length, max_target_sentence_length, rnn_size, num_layers, target_vocab_to_int, target_vocab_size, batch_size, keep_prob, dec_embedding_size)` function."
   ]
  },
  {
   "cell_type": "code",
   "execution_count": 13,
   "metadata": {
    "collapsed": false,
    "deletable": true,
    "editable": true
   },
   "outputs": [
    {
     "name": "stdout",
     "output_type": "stream",
     "text": [
      "Tests Passed\n"
     ]
    }
   ],
   "source": [
    "def seq2seq_model(input_data, target_data, keep_prob, batch_size,\n",
    "                  source_sequence_length, target_sequence_length,\n",
    "                  max_target_sentence_length,\n",
    "                  source_vocab_size, target_vocab_size,\n",
    "                  enc_embedding_size, dec_embedding_size,\n",
    "                  rnn_size, num_layers, target_vocab_to_int):\n",
    "    \"\"\"\n",
    "    Build the Sequence-to-Sequence part of the neural network\n",
    "    :param input_data: Input placeholder\n",
    "    :param target_data: Target placeholder\n",
    "    :param keep_prob: Dropout keep probability placeholder\n",
    "    :param batch_size: Batch Size\n",
    "    :param source_sequence_length: Sequence Lengths of source sequences in the batch\n",
    "    :param target_sequence_length: Sequence Lengths of target sequences in the batch\n",
    "    :param source_vocab_size: Source vocabulary size\n",
    "    :param target_vocab_size: Target vocabulary size\n",
    "    :param enc_embedding_size: Decoder embedding size\n",
    "    :param dec_embedding_size: Encoder embedding size\n",
    "    :param rnn_size: RNN Size\n",
    "    :param num_layers: Number of layers\n",
    "    :param target_vocab_to_int: Dictionary to go from the target words to an id\n",
    "    :return: Tuple of (Training BasicDecoderOutput, Inference BasicDecoderOutput)\n",
    "    \"\"\"\n",
    "    enc_out, enc_state = encoding_layer(input_data, rnn_size, num_layers, keep_prob, source_sequence_length\n",
    "                        , source_vocab_size, enc_embedding_size)\n",
    "    dec_input = process_decoder_input(target_data, target_vocab_to_int, batch_size)\n",
    "\n",
    "    training_decoder_out, infer_decode_out = decoding_layer(dec_input\n",
    "                                                            , enc_state, target_sequence_length\n",
    "                                                            , max_target_sentence_length\n",
    "                                                            , rnn_size, num_layers\n",
    "                                                            , target_vocab_to_int, target_vocab_size\n",
    "                                                            , batch_size, keep_prob, dec_embedding_size)\n",
    "    return training_decoder_out, infer_decode_out\n",
    "\n",
    "\n",
    "\"\"\"\n",
    "DON'T MODIFY ANYTHING IN THIS CELL THAT IS BELOW THIS LINE\n",
    "\"\"\"\n",
    "tests.test_seq2seq_model(seq2seq_model)"
   ]
  },
  {
   "cell_type": "markdown",
   "metadata": {
    "deletable": true,
    "editable": true
   },
   "source": [
    "## Neural Network Training\n",
    "### Hyperparameters\n",
    "Tune the following parameters:\n",
    "\n",
    "- Set `epochs` to the number of epochs.\n",
    "- Set `batch_size` to the batch size.\n",
    "- Set `rnn_size` to the size of the RNNs.\n",
    "- Set `num_layers` to the number of layers.\n",
    "- Set `encoding_embedding_size` to the size of the embedding for the encoder.\n",
    "- Set `decoding_embedding_size` to the size of the embedding for the decoder.\n",
    "- Set `learning_rate` to the learning rate.\n",
    "- Set `keep_probability` to the Dropout keep probability\n",
    "- Set `display_step` to state how many steps between each debug output statement"
   ]
  },
  {
   "cell_type": "code",
   "execution_count": 59,
   "metadata": {
    "collapsed": true,
    "deletable": true,
    "editable": true
   },
   "outputs": [],
   "source": [
    "# Number of Epochs\n",
    "epochs = 10\n",
    "# Batch Size\n",
    "batch_size = 512\n",
    "# RNN Size\n",
    "rnn_size = 200 # had it at 512 got a comment about small vocab size recommending smaller size\n",
    "# Number of Layers\n",
    "num_layers = 3\n",
    "# Embedding Size\n",
    "encoding_embedding_size = 200 # embedding size reduced in response to a comment about small vocab\n",
    "decoding_embedding_size = 200\n",
    "# Learning Rate\n",
    "learning_rate = 0.001\n",
    "# Dropout Keep Probability\n",
    "keep_probability = 0.65\n",
    "display_step = 10"
   ]
  },
  {
   "cell_type": "markdown",
   "metadata": {
    "deletable": true,
    "editable": true
   },
   "source": [
    "### Build the Graph\n",
    "Build the graph using the neural network you implemented."
   ]
  },
  {
   "cell_type": "code",
   "execution_count": 45,
   "metadata": {
    "collapsed": true,
    "deletable": true,
    "editable": true
   },
   "outputs": [],
   "source": [
    "\"\"\"\n",
    "DON'T MODIFY ANYTHING IN THIS CELL\n",
    "\"\"\"\n",
    "save_path = 'checkpoints/dev'\n",
    "(source_int_text, target_int_text), (source_vocab_to_int, target_vocab_to_int), _ = helper.load_preprocess()\n",
    "max_target_sentence_length = max([len(sentence) for sentence in source_int_text])\n",
    "\n",
    "train_graph = tf.Graph()\n",
    "with train_graph.as_default():\n",
    "    input_data, targets, lr, keep_prob, target_sequence_length, max_target_sequence_length, source_sequence_length = model_inputs()\n",
    "\n",
    "    #sequence_length = tf.placeholder_with_default(max_target_sentence_length, None, name='sequence_length')\n",
    "    input_shape = tf.shape(input_data)\n",
    "\n",
    "    train_logits, inference_logits = seq2seq_model(tf.reverse(input_data, [-1]),\n",
    "                                                   targets,\n",
    "                                                   keep_prob,\n",
    "                                                   batch_size,\n",
    "                                                   source_sequence_length,\n",
    "                                                   target_sequence_length,\n",
    "                                                   max_target_sequence_length,\n",
    "                                                   len(source_vocab_to_int),\n",
    "                                                   len(target_vocab_to_int),\n",
    "                                                   encoding_embedding_size,\n",
    "                                                   decoding_embedding_size,\n",
    "                                                   rnn_size,\n",
    "                                                   num_layers,\n",
    "                                                   target_vocab_to_int)\n",
    "\n",
    "\n",
    "    training_logits = tf.identity(train_logits.rnn_output, name='logits')\n",
    "    inference_logits = tf.identity(inference_logits.sample_id, name='predictions')\n",
    "\n",
    "    masks = tf.sequence_mask(target_sequence_length, max_target_sequence_length, dtype=tf.float32, name='masks')\n",
    "\n",
    "    with tf.name_scope(\"optimization\"):\n",
    "        # Loss function\n",
    "        cost = tf.contrib.seq2seq.sequence_loss(\n",
    "            training_logits,\n",
    "            targets,\n",
    "            masks)\n",
    "\n",
    "        # Optimizer\n",
    "        optimizer = tf.train.AdamOptimizer(lr)\n",
    "\n",
    "        # Gradient Clipping\n",
    "        gradients = optimizer.compute_gradients(cost)\n",
    "        capped_gradients = [(tf.clip_by_value(grad, -1., 1.), var) for grad, var in gradients if grad is not None]\n",
    "        train_op = optimizer.apply_gradients(capped_gradients)\n"
   ]
  },
  {
   "cell_type": "markdown",
   "metadata": {
    "deletable": true,
    "editable": true
   },
   "source": [
    "Batch and pad the source and target sequences"
   ]
  },
  {
   "cell_type": "code",
   "execution_count": 20,
   "metadata": {
    "collapsed": true,
    "deletable": true,
    "editable": true
   },
   "outputs": [],
   "source": [
    "\"\"\"\n",
    "DON'T MODIFY ANYTHING IN THIS CELL\n",
    "\"\"\"\n",
    "def pad_sentence_batch(sentence_batch, pad_int):\n",
    "    \"\"\"Pad sentences with <PAD> so that each sentence of a batch has the same length\"\"\"\n",
    "    max_sentence = max([len(sentence) for sentence in sentence_batch])\n",
    "    return [sentence + [pad_int] * (max_sentence - len(sentence)) for sentence in sentence_batch]\n",
    "\n",
    "\n",
    "def get_batches(sources, targets, batch_size, source_pad_int, target_pad_int):\n",
    "    \"\"\"Batch targets, sources, and the lengths of their sentences together\"\"\"\n",
    "    for batch_i in range(0, len(sources)//batch_size):\n",
    "        start_i = batch_i * batch_size\n",
    "\n",
    "        # Slice the right amount for the batch\n",
    "        sources_batch = sources[start_i:start_i + batch_size]\n",
    "        targets_batch = targets[start_i:start_i + batch_size]\n",
    "\n",
    "        # Pad\n",
    "        pad_sources_batch = np.array(pad_sentence_batch(sources_batch, source_pad_int))\n",
    "        pad_targets_batch = np.array(pad_sentence_batch(targets_batch, target_pad_int))\n",
    "\n",
    "        # Need the lengths for the _lengths parameters\n",
    "        pad_targets_lengths = []\n",
    "        for target in pad_targets_batch:\n",
    "            pad_targets_lengths.append(len(target))\n",
    "\n",
    "        pad_source_lengths = []\n",
    "        for source in pad_sources_batch:\n",
    "            pad_source_lengths.append(len(source))\n",
    "\n",
    "        yield pad_sources_batch, pad_targets_batch, pad_source_lengths, pad_targets_lengths\n"
   ]
  },
  {
   "cell_type": "markdown",
   "metadata": {
    "deletable": true,
    "editable": true
   },
   "source": [
    "### Train\n",
    "Train the neural network on the preprocessed data. If you have a hard time getting a good loss, check the forms to see if anyone is having the same problem."
   ]
  },
  {
   "cell_type": "code",
   "execution_count": 46,
   "metadata": {
    "collapsed": false,
    "deletable": true,
    "editable": true,
    "scrolled": true
   },
   "outputs": [
    {
     "name": "stdout",
     "output_type": "stream",
     "text": [
      "Epoch   0 Batch   10/269 - Train Accuracy: 0.2690, Validation Accuracy: 0.3420, Loss: 3.3737\n",
      "Epoch   0 Batch   20/269 - Train Accuracy: 0.3327, Validation Accuracy: 0.3912, Loss: 3.0815\n",
      "Epoch   0 Batch   30/269 - Train Accuracy: 0.3820, Validation Accuracy: 0.4158, Loss: 2.7577\n",
      "Epoch   0 Batch   40/269 - Train Accuracy: 0.3910, Validation Accuracy: 0.4431, Loss: 2.6268\n",
      "Epoch   0 Batch   50/269 - Train Accuracy: 0.4183, Validation Accuracy: 0.4650, Loss: 2.4305\n",
      "Epoch   0 Batch   60/269 - Train Accuracy: 0.4826, Validation Accuracy: 0.4920, Loss: 2.1074\n",
      "Epoch   0 Batch   70/269 - Train Accuracy: 0.5192, Validation Accuracy: 0.5267, Loss: 2.0350\n",
      "Epoch   0 Batch   80/269 - Train Accuracy: 0.5123, Validation Accuracy: 0.5176, Loss: 1.9011\n",
      "Epoch   0 Batch   90/269 - Train Accuracy: 0.4262, Validation Accuracy: 0.4775, Loss: 2.0080\n",
      "Epoch   0 Batch  100/269 - Train Accuracy: 0.5543, Validation Accuracy: 0.5549, Loss: 1.7196\n",
      "Epoch   0 Batch  110/269 - Train Accuracy: 0.5179, Validation Accuracy: 0.5481, Loss: 1.5702\n",
      "Epoch   0 Batch  120/269 - Train Accuracy: 0.5343, Validation Accuracy: 0.5745, Loss: 1.4507\n",
      "Epoch   0 Batch  130/269 - Train Accuracy: 0.4894, Validation Accuracy: 0.5448, Loss: 1.3637\n",
      "Epoch   0 Batch  140/269 - Train Accuracy: 0.5679, Validation Accuracy: 0.5693, Loss: 1.1829\n",
      "Epoch   0 Batch  150/269 - Train Accuracy: 0.5460, Validation Accuracy: 0.5654, Loss: 1.1109\n",
      "Epoch   0 Batch  160/269 - Train Accuracy: 0.5661, Validation Accuracy: 0.5882, Loss: 1.0226\n",
      "Epoch   0 Batch  170/269 - Train Accuracy: 0.5797, Validation Accuracy: 0.5955, Loss: 0.9345\n",
      "Epoch   0 Batch  180/269 - Train Accuracy: 0.5793, Validation Accuracy: 0.5835, Loss: 0.8740\n",
      "Epoch   0 Batch  190/269 - Train Accuracy: 0.5737, Validation Accuracy: 0.5861, Loss: 0.8141\n",
      "Epoch   0 Batch  200/269 - Train Accuracy: 0.5679, Validation Accuracy: 0.5889, Loss: 0.8364\n",
      "Epoch   0 Batch  210/269 - Train Accuracy: 0.5960, Validation Accuracy: 0.5971, Loss: 0.7631\n",
      "Epoch   0 Batch  220/269 - Train Accuracy: 0.5972, Validation Accuracy: 0.5807, Loss: 0.7118\n",
      "Epoch   0 Batch  230/269 - Train Accuracy: 0.5958, Validation Accuracy: 0.5939, Loss: 0.7216\n",
      "Epoch   0 Batch  240/269 - Train Accuracy: 0.6384, Validation Accuracy: 0.5922, Loss: 0.6460\n",
      "Epoch   0 Batch  250/269 - Train Accuracy: 0.5975, Validation Accuracy: 0.6002, Loss: 0.7016\n",
      "Epoch   0 Batch  260/269 - Train Accuracy: 0.5768, Validation Accuracy: 0.6031, Loss: 0.7205\n",
      "Epoch   1 Batch   10/269 - Train Accuracy: 0.6114, Validation Accuracy: 0.6119, Loss: 0.6784\n",
      "Epoch   1 Batch   20/269 - Train Accuracy: 0.6157, Validation Accuracy: 0.6197, Loss: 0.6631\n",
      "Epoch   1 Batch   30/269 - Train Accuracy: 0.6308, Validation Accuracy: 0.6143, Loss: 0.6266\n",
      "Epoch   1 Batch   40/269 - Train Accuracy: 0.6188, Validation Accuracy: 0.6262, Loss: 0.6411\n",
      "Epoch   1 Batch   50/269 - Train Accuracy: 0.6155, Validation Accuracy: 0.6312, Loss: 0.6351\n",
      "Epoch   1 Batch   60/269 - Train Accuracy: 0.6421, Validation Accuracy: 0.6271, Loss: 0.5592\n",
      "Epoch   1 Batch   70/269 - Train Accuracy: 0.6553, Validation Accuracy: 0.6442, Loss: 0.5795\n",
      "Epoch   1 Batch   80/269 - Train Accuracy: 0.6603, Validation Accuracy: 0.6648, Loss: 0.5612\n",
      "Epoch   1 Batch   90/269 - Train Accuracy: 0.6292, Validation Accuracy: 0.6701, Loss: 0.5938\n",
      "Epoch   1 Batch  100/269 - Train Accuracy: 0.6780, Validation Accuracy: 0.6647, Loss: 0.5391\n",
      "Epoch   1 Batch  110/269 - Train Accuracy: 0.6762, Validation Accuracy: 0.6744, Loss: 0.5202\n",
      "Epoch   1 Batch  120/269 - Train Accuracy: 0.6487, Validation Accuracy: 0.6677, Loss: 0.5435\n",
      "Epoch   1 Batch  130/269 - Train Accuracy: 0.6685, Validation Accuracy: 0.6805, Loss: 0.5336\n",
      "Epoch   1 Batch  140/269 - Train Accuracy: 0.6892, Validation Accuracy: 0.6849, Loss: 0.5011\n",
      "Epoch   1 Batch  150/269 - Train Accuracy: 0.6819, Validation Accuracy: 0.6970, Loss: 0.4868\n",
      "Epoch   1 Batch  160/269 - Train Accuracy: 0.6907, Validation Accuracy: 0.6991, Loss: 0.4707\n",
      "Epoch   1 Batch  170/269 - Train Accuracy: 0.7049, Validation Accuracy: 0.6878, Loss: 0.4599\n",
      "Epoch   1 Batch  180/269 - Train Accuracy: 0.6980, Validation Accuracy: 0.6934, Loss: 0.4536\n",
      "Epoch   1 Batch  190/269 - Train Accuracy: 0.7056, Validation Accuracy: 0.6988, Loss: 0.4326\n",
      "Epoch   1 Batch  200/269 - Train Accuracy: 0.7002, Validation Accuracy: 0.7001, Loss: 0.4533\n",
      "Epoch   1 Batch  210/269 - Train Accuracy: 0.7190, Validation Accuracy: 0.7060, Loss: 0.4170\n",
      "Epoch   1 Batch  220/269 - Train Accuracy: 0.7176, Validation Accuracy: 0.7314, Loss: 0.3999\n",
      "Epoch   1 Batch  230/269 - Train Accuracy: 0.7334, Validation Accuracy: 0.7244, Loss: 0.4118\n",
      "Epoch   1 Batch  240/269 - Train Accuracy: 0.7387, Validation Accuracy: 0.7211, Loss: 0.3654\n",
      "Epoch   1 Batch  250/269 - Train Accuracy: 0.7345, Validation Accuracy: 0.7439, Loss: 0.4068\n",
      "Epoch   1 Batch  260/269 - Train Accuracy: 0.7282, Validation Accuracy: 0.7351, Loss: 0.4103\n",
      "Epoch   2 Batch   10/269 - Train Accuracy: 0.7649, Validation Accuracy: 0.7529, Loss: 0.3837\n",
      "Epoch   2 Batch   20/269 - Train Accuracy: 0.7525, Validation Accuracy: 0.7604, Loss: 0.3892\n",
      "Epoch   2 Batch   30/269 - Train Accuracy: 0.7782, Validation Accuracy: 0.7657, Loss: 0.3627\n",
      "Epoch   2 Batch   40/269 - Train Accuracy: 0.7670, Validation Accuracy: 0.7768, Loss: 0.3667\n",
      "Epoch   2 Batch   50/269 - Train Accuracy: 0.7422, Validation Accuracy: 0.7781, Loss: 0.3738\n",
      "Epoch   2 Batch   60/269 - Train Accuracy: 0.7813, Validation Accuracy: 0.7805, Loss: 0.3251\n",
      "Epoch   2 Batch   70/269 - Train Accuracy: 0.7878, Validation Accuracy: 0.7758, Loss: 0.3435\n",
      "Epoch   2 Batch   80/269 - Train Accuracy: 0.7919, Validation Accuracy: 0.7844, Loss: 0.3309\n",
      "Epoch   2 Batch   90/269 - Train Accuracy: 0.7609, Validation Accuracy: 0.7897, Loss: 0.3372\n",
      "Epoch   2 Batch  100/269 - Train Accuracy: 0.8053, Validation Accuracy: 0.7886, Loss: 0.3169\n",
      "Epoch   2 Batch  110/269 - Train Accuracy: 0.8012, Validation Accuracy: 0.8011, Loss: 0.3048\n",
      "Epoch   2 Batch  120/269 - Train Accuracy: 0.8035, Validation Accuracy: 0.8011, Loss: 0.3191\n",
      "Epoch   2 Batch  130/269 - Train Accuracy: 0.8052, Validation Accuracy: 0.8044, Loss: 0.3150\n",
      "Epoch   2 Batch  140/269 - Train Accuracy: 0.8025, Validation Accuracy: 0.8097, Loss: 0.2989\n",
      "Epoch   2 Batch  150/269 - Train Accuracy: 0.8142, Validation Accuracy: 0.8150, Loss: 0.2873\n",
      "Epoch   2 Batch  160/269 - Train Accuracy: 0.8165, Validation Accuracy: 0.8186, Loss: 0.2857\n",
      "Epoch   2 Batch  170/269 - Train Accuracy: 0.8172, Validation Accuracy: 0.8165, Loss: 0.2723\n",
      "Epoch   2 Batch  180/269 - Train Accuracy: 0.8243, Validation Accuracy: 0.8183, Loss: 0.2771\n",
      "Epoch   2 Batch  190/269 - Train Accuracy: 0.8055, Validation Accuracy: 0.8192, Loss: 0.2687\n",
      "Epoch   2 Batch  200/269 - Train Accuracy: 0.8085, Validation Accuracy: 0.8212, Loss: 0.2759\n",
      "Epoch   2 Batch  210/269 - Train Accuracy: 0.8235, Validation Accuracy: 0.8137, Loss: 0.2579\n",
      "Epoch   2 Batch  220/269 - Train Accuracy: 0.8377, Validation Accuracy: 0.8312, Loss: 0.2439\n",
      "Epoch   2 Batch  230/269 - Train Accuracy: 0.8371, Validation Accuracy: 0.8340, Loss: 0.2482\n",
      "Epoch   2 Batch  240/269 - Train Accuracy: 0.8443, Validation Accuracy: 0.8335, Loss: 0.2244\n",
      "Epoch   2 Batch  250/269 - Train Accuracy: 0.8477, Validation Accuracy: 0.8403, Loss: 0.2450\n",
      "Epoch   2 Batch  260/269 - Train Accuracy: 0.8219, Validation Accuracy: 0.8395, Loss: 0.2466\n",
      "Epoch   3 Batch   10/269 - Train Accuracy: 0.8499, Validation Accuracy: 0.8552, Loss: 0.2221\n",
      "Epoch   3 Batch   20/269 - Train Accuracy: 0.8512, Validation Accuracy: 0.8532, Loss: 0.2268\n",
      "Epoch   3 Batch   30/269 - Train Accuracy: 0.8463, Validation Accuracy: 0.8405, Loss: 0.2164\n",
      "Epoch   3 Batch   40/269 - Train Accuracy: 0.8408, Validation Accuracy: 0.8498, Loss: 0.2168\n",
      "Epoch   3 Batch   50/269 - Train Accuracy: 0.8314, Validation Accuracy: 0.8630, Loss: 0.2248\n",
      "Epoch   3 Batch   60/269 - Train Accuracy: 0.8627, Validation Accuracy: 0.8552, Loss: 0.1889\n",
      "Epoch   3 Batch   70/269 - Train Accuracy: 0.8573, Validation Accuracy: 0.8545, Loss: 0.2050\n",
      "Epoch   3 Batch   80/269 - Train Accuracy: 0.8516, Validation Accuracy: 0.8617, Loss: 0.1955\n",
      "Epoch   3 Batch   90/269 - Train Accuracy: 0.8431, Validation Accuracy: 0.8530, Loss: 0.2004\n",
      "Epoch   3 Batch  100/269 - Train Accuracy: 0.8659, Validation Accuracy: 0.8629, Loss: 0.1911\n",
      "Epoch   3 Batch  110/269 - Train Accuracy: 0.8556, Validation Accuracy: 0.8677, Loss: 0.1834\n",
      "Epoch   3 Batch  120/269 - Train Accuracy: 0.8481, Validation Accuracy: 0.8687, Loss: 0.2023\n",
      "Epoch   3 Batch  130/269 - Train Accuracy: 0.8637, Validation Accuracy: 0.8684, Loss: 0.1850\n",
      "Epoch   3 Batch  140/269 - Train Accuracy: 0.8677, Validation Accuracy: 0.8761, Loss: 0.1752\n",
      "Epoch   3 Batch  150/269 - Train Accuracy: 0.8703, Validation Accuracy: 0.8754, Loss: 0.1775\n",
      "Epoch   3 Batch  160/269 - Train Accuracy: 0.8639, Validation Accuracy: 0.8801, Loss: 0.1848\n",
      "Epoch   3 Batch  170/269 - Train Accuracy: 0.8766, Validation Accuracy: 0.8767, Loss: 0.1686\n",
      "Epoch   3 Batch  180/269 - Train Accuracy: 0.8802, Validation Accuracy: 0.8819, Loss: 0.1610\n",
      "Epoch   3 Batch  190/269 - Train Accuracy: 0.8822, Validation Accuracy: 0.8842, Loss: 0.1661\n",
      "Epoch   3 Batch  200/269 - Train Accuracy: 0.8737, Validation Accuracy: 0.8844, Loss: 0.1643\n",
      "Epoch   3 Batch  210/269 - Train Accuracy: 0.8719, Validation Accuracy: 0.8920, Loss: 0.1595\n",
      "Epoch   3 Batch  220/269 - Train Accuracy: 0.8902, Validation Accuracy: 0.8932, Loss: 0.1576\n",
      "Epoch   3 Batch  230/269 - Train Accuracy: 0.8949, Validation Accuracy: 0.8994, Loss: 0.1554\n",
      "Epoch   3 Batch  240/269 - Train Accuracy: 0.9015, Validation Accuracy: 0.8896, Loss: 0.1363\n",
      "Epoch   3 Batch  250/269 - Train Accuracy: 0.8982, Validation Accuracy: 0.8934, Loss: 0.1499\n",
      "Epoch   3 Batch  260/269 - Train Accuracy: 0.8839, Validation Accuracy: 0.8980, Loss: 0.1598\n",
      "Epoch   4 Batch   10/269 - Train Accuracy: 0.9041, Validation Accuracy: 0.9013, Loss: 0.1386\n",
      "Epoch   4 Batch   20/269 - Train Accuracy: 0.8956, Validation Accuracy: 0.8989, Loss: 0.1413\n",
      "Epoch   4 Batch   30/269 - Train Accuracy: 0.8925, Validation Accuracy: 0.8991, Loss: 0.1402\n",
      "Epoch   4 Batch   40/269 - Train Accuracy: 0.8769, Validation Accuracy: 0.8967, Loss: 0.1590\n",
      "Epoch   4 Batch   50/269 - Train Accuracy: 0.8661, Validation Accuracy: 0.9062, Loss: 0.1628\n",
      "Epoch   4 Batch   60/269 - Train Accuracy: 0.8957, Validation Accuracy: 0.9090, Loss: 0.1286\n",
      "Epoch   4 Batch   70/269 - Train Accuracy: 0.9023, Validation Accuracy: 0.9064, Loss: 0.1406\n",
      "Epoch   4 Batch   80/269 - Train Accuracy: 0.8995, Validation Accuracy: 0.9020, Loss: 0.1322\n",
      "Epoch   4 Batch   90/269 - Train Accuracy: 0.8958, Validation Accuracy: 0.9031, Loss: 0.1437\n",
      "Epoch   4 Batch  100/269 - Train Accuracy: 0.8986, Validation Accuracy: 0.9070, Loss: 0.1281\n",
      "Epoch   4 Batch  110/269 - Train Accuracy: 0.8965, Validation Accuracy: 0.9021, Loss: 0.1257\n",
      "Epoch   4 Batch  120/269 - Train Accuracy: 0.8888, Validation Accuracy: 0.9012, Loss: 0.1351\n",
      "Epoch   4 Batch  130/269 - Train Accuracy: 0.9068, Validation Accuracy: 0.9103, Loss: 0.1324\n",
      "Epoch   4 Batch  140/269 - Train Accuracy: 0.8961, Validation Accuracy: 0.9073, Loss: 0.1213\n",
      "Epoch   4 Batch  150/269 - Train Accuracy: 0.9077, Validation Accuracy: 0.9089, Loss: 0.1171\n",
      "Epoch   4 Batch  160/269 - Train Accuracy: 0.9037, Validation Accuracy: 0.9156, Loss: 0.1188\n",
      "Epoch   4 Batch  170/269 - Train Accuracy: 0.8980, Validation Accuracy: 0.9157, Loss: 0.1098\n",
      "Epoch   4 Batch  180/269 - Train Accuracy: 0.9140, Validation Accuracy: 0.9084, Loss: 0.1116\n",
      "Epoch   4 Batch  190/269 - Train Accuracy: 0.8962, Validation Accuracy: 0.9165, Loss: 0.1129\n",
      "Epoch   4 Batch  200/269 - Train Accuracy: 0.8979, Validation Accuracy: 0.9161, Loss: 0.1112\n",
      "Epoch   4 Batch  210/269 - Train Accuracy: 0.9015, Validation Accuracy: 0.9221, Loss: 0.1108\n",
      "Epoch   4 Batch  220/269 - Train Accuracy: 0.9047, Validation Accuracy: 0.9176, Loss: 0.1068\n",
      "Epoch   4 Batch  230/269 - Train Accuracy: 0.9143, Validation Accuracy: 0.9191, Loss: 0.1067\n",
      "Epoch   4 Batch  240/269 - Train Accuracy: 0.9204, Validation Accuracy: 0.9195, Loss: 0.1004\n",
      "Epoch   4 Batch  250/269 - Train Accuracy: 0.9206, Validation Accuracy: 0.9183, Loss: 0.1064\n",
      "Epoch   4 Batch  260/269 - Train Accuracy: 0.9105, Validation Accuracy: 0.9196, Loss: 0.1162\n",
      "Epoch   5 Batch   10/269 - Train Accuracy: 0.9208, Validation Accuracy: 0.9117, Loss: 0.1079\n",
      "Epoch   5 Batch   20/269 - Train Accuracy: 0.9198, Validation Accuracy: 0.9053, Loss: 0.1104\n",
      "Epoch   5 Batch   30/269 - Train Accuracy: 0.9166, Validation Accuracy: 0.9174, Loss: 0.1024\n",
      "Epoch   5 Batch   40/269 - Train Accuracy: 0.9027, Validation Accuracy: 0.9100, Loss: 0.1079\n",
      "Epoch   5 Batch   50/269 - Train Accuracy: 0.8908, Validation Accuracy: 0.9163, Loss: 0.1216\n",
      "Epoch   5 Batch   60/269 - Train Accuracy: 0.9158, Validation Accuracy: 0.9147, Loss: 0.0967\n",
      "Epoch   5 Batch   70/269 - Train Accuracy: 0.9090, Validation Accuracy: 0.9203, Loss: 0.1053\n",
      "Epoch   5 Batch   80/269 - Train Accuracy: 0.9164, Validation Accuracy: 0.9187, Loss: 0.1023\n",
      "Epoch   5 Batch   90/269 - Train Accuracy: 0.8970, Validation Accuracy: 0.9176, Loss: 0.1061\n",
      "Epoch   5 Batch  100/269 - Train Accuracy: 0.9114, Validation Accuracy: 0.9202, Loss: 0.1021\n",
      "Epoch   5 Batch  110/269 - Train Accuracy: 0.9115, Validation Accuracy: 0.9151, Loss: 0.0985\n",
      "Epoch   5 Batch  120/269 - Train Accuracy: 0.9032, Validation Accuracy: 0.9102, Loss: 0.1074\n",
      "Epoch   5 Batch  130/269 - Train Accuracy: 0.9055, Validation Accuracy: 0.9179, Loss: 0.1084\n",
      "Epoch   5 Batch  140/269 - Train Accuracy: 0.9007, Validation Accuracy: 0.9133, Loss: 0.1018\n",
      "Epoch   5 Batch  150/269 - Train Accuracy: 0.9121, Validation Accuracy: 0.9163, Loss: 0.1023\n",
      "Epoch   5 Batch  160/269 - Train Accuracy: 0.9164, Validation Accuracy: 0.9260, Loss: 0.0936\n",
      "Epoch   5 Batch  170/269 - Train Accuracy: 0.9063, Validation Accuracy: 0.9218, Loss: 0.0871\n",
      "Epoch   5 Batch  180/269 - Train Accuracy: 0.9189, Validation Accuracy: 0.9165, Loss: 0.0901\n",
      "Epoch   5 Batch  190/269 - Train Accuracy: 0.9129, Validation Accuracy: 0.9213, Loss: 0.0914\n",
      "Epoch   5 Batch  200/269 - Train Accuracy: 0.9128, Validation Accuracy: 0.9234, Loss: 0.0911\n",
      "Epoch   5 Batch  210/269 - Train Accuracy: 0.9098, Validation Accuracy: 0.9173, Loss: 0.0917\n",
      "Epoch   5 Batch  220/269 - Train Accuracy: 0.9096, Validation Accuracy: 0.9288, Loss: 0.0857\n",
      "Epoch   5 Batch  230/269 - Train Accuracy: 0.9238, Validation Accuracy: 0.9194, Loss: 0.0914\n",
      "Epoch   5 Batch  240/269 - Train Accuracy: 0.9231, Validation Accuracy: 0.9259, Loss: 0.0834\n",
      "Epoch   5 Batch  250/269 - Train Accuracy: 0.9323, Validation Accuracy: 0.9270, Loss: 0.0906\n",
      "Epoch   5 Batch  260/269 - Train Accuracy: 0.9207, Validation Accuracy: 0.9265, Loss: 0.1031\n",
      "Epoch   6 Batch   10/269 - Train Accuracy: 0.9196, Validation Accuracy: 0.9242, Loss: 0.0842\n",
      "Epoch   6 Batch   20/269 - Train Accuracy: 0.9211, Validation Accuracy: 0.9207, Loss: 0.0907\n",
      "Epoch   6 Batch   30/269 - Train Accuracy: 0.9270, Validation Accuracy: 0.9189, Loss: 0.0855\n",
      "Epoch   6 Batch   40/269 - Train Accuracy: 0.9174, Validation Accuracy: 0.9185, Loss: 0.0949\n",
      "Epoch   6 Batch   50/269 - Train Accuracy: 0.8899, Validation Accuracy: 0.9244, Loss: 0.1114\n",
      "Epoch   6 Batch   60/269 - Train Accuracy: 0.9268, Validation Accuracy: 0.9248, Loss: 0.0825\n",
      "Epoch   6 Batch   70/269 - Train Accuracy: 0.9186, Validation Accuracy: 0.9197, Loss: 0.0923\n",
      "Epoch   6 Batch   80/269 - Train Accuracy: 0.9219, Validation Accuracy: 0.9173, Loss: 0.0940\n",
      "Epoch   6 Batch   90/269 - Train Accuracy: 0.9132, Validation Accuracy: 0.9186, Loss: 0.0943\n",
      "Epoch   6 Batch  100/269 - Train Accuracy: 0.9242, Validation Accuracy: 0.9225, Loss: 0.0887\n",
      "Epoch   6 Batch  110/269 - Train Accuracy: 0.9222, Validation Accuracy: 0.9225, Loss: 0.0840\n",
      "Epoch   6 Batch  120/269 - Train Accuracy: 0.9174, Validation Accuracy: 0.9244, Loss: 0.0933\n",
      "Epoch   6 Batch  130/269 - Train Accuracy: 0.9242, Validation Accuracy: 0.9237, Loss: 0.0873\n",
      "Epoch   6 Batch  140/269 - Train Accuracy: 0.9175, Validation Accuracy: 0.9161, Loss: 0.0860\n",
      "Epoch   6 Batch  150/269 - Train Accuracy: 0.9225, Validation Accuracy: 0.9259, Loss: 0.0890\n",
      "Epoch   6 Batch  160/269 - Train Accuracy: 0.9180, Validation Accuracy: 0.9265, Loss: 0.0787\n",
      "Epoch   6 Batch  170/269 - Train Accuracy: 0.9168, Validation Accuracy: 0.9284, Loss: 0.0846\n",
      "Epoch   6 Batch  180/269 - Train Accuracy: 0.9315, Validation Accuracy: 0.9284, Loss: 0.0810\n",
      "Epoch   6 Batch  190/269 - Train Accuracy: 0.9205, Validation Accuracy: 0.9297, Loss: 0.0836\n",
      "Epoch   6 Batch  200/269 - Train Accuracy: 0.9267, Validation Accuracy: 0.9317, Loss: 0.0834\n",
      "Epoch   6 Batch  210/269 - Train Accuracy: 0.9169, Validation Accuracy: 0.9321, Loss: 0.0855\n",
      "Epoch   6 Batch  220/269 - Train Accuracy: 0.9232, Validation Accuracy: 0.9268, Loss: 0.0809\n",
      "Epoch   6 Batch  230/269 - Train Accuracy: 0.9325, Validation Accuracy: 0.9316, Loss: 0.0874\n",
      "Epoch   6 Batch  240/269 - Train Accuracy: 0.9370, Validation Accuracy: 0.9211, Loss: 0.0720\n",
      "Epoch   6 Batch  250/269 - Train Accuracy: 0.9372, Validation Accuracy: 0.9333, Loss: 0.0818\n",
      "Epoch   6 Batch  260/269 - Train Accuracy: 0.9324, Validation Accuracy: 0.9366, Loss: 0.0834\n",
      "Epoch   7 Batch   10/269 - Train Accuracy: 0.9288, Validation Accuracy: 0.9322, Loss: 0.0717\n",
      "Epoch   7 Batch   20/269 - Train Accuracy: 0.9286, Validation Accuracy: 0.9280, Loss: 0.0720\n",
      "Epoch   7 Batch   30/269 - Train Accuracy: 0.9299, Validation Accuracy: 0.9263, Loss: 0.0787\n",
      "Epoch   7 Batch   40/269 - Train Accuracy: 0.9194, Validation Accuracy: 0.9243, Loss: 0.0789\n",
      "Epoch   7 Batch   50/269 - Train Accuracy: 0.9179, Validation Accuracy: 0.9363, Loss: 0.0908\n",
      "Epoch   7 Batch   60/269 - Train Accuracy: 0.9376, Validation Accuracy: 0.9267, Loss: 0.0678\n",
      "Epoch   7 Batch   70/269 - Train Accuracy: 0.9301, Validation Accuracy: 0.9285, Loss: 0.0773\n",
      "Epoch   7 Batch   80/269 - Train Accuracy: 0.9277, Validation Accuracy: 0.9331, Loss: 0.0772\n",
      "Epoch   7 Batch   90/269 - Train Accuracy: 0.9228, Validation Accuracy: 0.9300, Loss: 0.0791\n",
      "Epoch   7 Batch  100/269 - Train Accuracy: 0.9240, Validation Accuracy: 0.9308, Loss: 0.0786\n",
      "Epoch   7 Batch  110/269 - Train Accuracy: 0.9275, Validation Accuracy: 0.9284, Loss: 0.0757\n",
      "Epoch   7 Batch  120/269 - Train Accuracy: 0.9215, Validation Accuracy: 0.9297, Loss: 0.0867\n",
      "Epoch   7 Batch  130/269 - Train Accuracy: 0.9308, Validation Accuracy: 0.9357, Loss: 0.0814\n",
      "Epoch   7 Batch  140/269 - Train Accuracy: 0.9226, Validation Accuracy: 0.9256, Loss: 0.0761\n",
      "Epoch   7 Batch  150/269 - Train Accuracy: 0.9240, Validation Accuracy: 0.9370, Loss: 0.0754\n",
      "Epoch   7 Batch  160/269 - Train Accuracy: 0.9289, Validation Accuracy: 0.9331, Loss: 0.0730\n",
      "Epoch   7 Batch  170/269 - Train Accuracy: 0.9199, Validation Accuracy: 0.9284, Loss: 0.0667\n",
      "Epoch   7 Batch  180/269 - Train Accuracy: 0.9389, Validation Accuracy: 0.9333, Loss: 0.0753\n",
      "Epoch   7 Batch  190/269 - Train Accuracy: 0.9313, Validation Accuracy: 0.9410, Loss: 0.0747\n",
      "Epoch   7 Batch  200/269 - Train Accuracy: 0.9290, Validation Accuracy: 0.9357, Loss: 0.0684\n",
      "Epoch   7 Batch  210/269 - Train Accuracy: 0.9272, Validation Accuracy: 0.9347, Loss: 0.0670\n",
      "Epoch   7 Batch  220/269 - Train Accuracy: 0.9300, Validation Accuracy: 0.9368, Loss: 0.0733\n",
      "Epoch   7 Batch  230/269 - Train Accuracy: 0.9358, Validation Accuracy: 0.9325, Loss: 0.0728\n",
      "Epoch   7 Batch  240/269 - Train Accuracy: 0.9340, Validation Accuracy: 0.9264, Loss: 0.0655\n",
      "Epoch   7 Batch  250/269 - Train Accuracy: 0.9394, Validation Accuracy: 0.9271, Loss: 0.0699\n",
      "Epoch   7 Batch  260/269 - Train Accuracy: 0.9368, Validation Accuracy: 0.9349, Loss: 0.0776\n",
      "Epoch   8 Batch   10/269 - Train Accuracy: 0.9312, Validation Accuracy: 0.9331, Loss: 0.0667\n",
      "Epoch   8 Batch   20/269 - Train Accuracy: 0.9351, Validation Accuracy: 0.9340, Loss: 0.0792\n",
      "Epoch   8 Batch   30/269 - Train Accuracy: 0.9336, Validation Accuracy: 0.9319, Loss: 0.0679\n",
      "Epoch   8 Batch   40/269 - Train Accuracy: 0.9243, Validation Accuracy: 0.9324, Loss: 0.0769\n",
      "Epoch   8 Batch   50/269 - Train Accuracy: 0.9210, Validation Accuracy: 0.9407, Loss: 0.0863\n",
      "Epoch   8 Batch   60/269 - Train Accuracy: 0.9447, Validation Accuracy: 0.9365, Loss: 0.0678\n",
      "Epoch   8 Batch   70/269 - Train Accuracy: 0.9353, Validation Accuracy: 0.9239, Loss: 0.0735\n",
      "Epoch   8 Batch   80/269 - Train Accuracy: 0.9262, Validation Accuracy: 0.9332, Loss: 0.0714\n",
      "Epoch   8 Batch   90/269 - Train Accuracy: 0.9252, Validation Accuracy: 0.9342, Loss: 0.0767\n",
      "Epoch   8 Batch  100/269 - Train Accuracy: 0.9256, Validation Accuracy: 0.9356, Loss: 0.0777\n",
      "Epoch   8 Batch  110/269 - Train Accuracy: 0.9287, Validation Accuracy: 0.9310, Loss: 0.0670\n",
      "Epoch   8 Batch  120/269 - Train Accuracy: 0.9272, Validation Accuracy: 0.9213, Loss: 0.0770\n",
      "Epoch   8 Batch  130/269 - Train Accuracy: 0.9353, Validation Accuracy: 0.9318, Loss: 0.0779\n",
      "Epoch   8 Batch  140/269 - Train Accuracy: 0.9237, Validation Accuracy: 0.9216, Loss: 0.0721\n",
      "Epoch   8 Batch  150/269 - Train Accuracy: 0.9289, Validation Accuracy: 0.9209, Loss: 0.0681\n",
      "Epoch   8 Batch  160/269 - Train Accuracy: 0.9302, Validation Accuracy: 0.9374, Loss: 0.0682\n",
      "Epoch   8 Batch  170/269 - Train Accuracy: 0.9243, Validation Accuracy: 0.9295, Loss: 0.0706\n",
      "Epoch   8 Batch  180/269 - Train Accuracy: 0.9385, Validation Accuracy: 0.9344, Loss: 0.0693\n",
      "Epoch   8 Batch  190/269 - Train Accuracy: 0.9293, Validation Accuracy: 0.9369, Loss: 0.0749\n",
      "Epoch   8 Batch  200/269 - Train Accuracy: 0.9337, Validation Accuracy: 0.9367, Loss: 0.0727\n",
      "Epoch   8 Batch  210/269 - Train Accuracy: 0.9266, Validation Accuracy: 0.9396, Loss: 0.0675\n",
      "Epoch   8 Batch  220/269 - Train Accuracy: 0.9341, Validation Accuracy: 0.9316, Loss: 0.0735\n",
      "Epoch   8 Batch  230/269 - Train Accuracy: 0.9342, Validation Accuracy: 0.9315, Loss: 0.0704\n",
      "Epoch   8 Batch  240/269 - Train Accuracy: 0.9433, Validation Accuracy: 0.9358, Loss: 0.0658\n",
      "Epoch   8 Batch  250/269 - Train Accuracy: 0.9415, Validation Accuracy: 0.9348, Loss: 0.0729\n",
      "Epoch   8 Batch  260/269 - Train Accuracy: 0.9389, Validation Accuracy: 0.9403, Loss: 0.0747\n",
      "Epoch   9 Batch   10/269 - Train Accuracy: 0.9356, Validation Accuracy: 0.9424, Loss: 0.0630\n",
      "Epoch   9 Batch   20/269 - Train Accuracy: 0.9360, Validation Accuracy: 0.9394, Loss: 0.0684\n",
      "Epoch   9 Batch   30/269 - Train Accuracy: 0.9391, Validation Accuracy: 0.9369, Loss: 0.0688\n",
      "Epoch   9 Batch   40/269 - Train Accuracy: 0.9354, Validation Accuracy: 0.9348, Loss: 0.0753\n",
      "Epoch   9 Batch   50/269 - Train Accuracy: 0.9225, Validation Accuracy: 0.9365, Loss: 0.0773\n",
      "Epoch   9 Batch   60/269 - Train Accuracy: 0.9492, Validation Accuracy: 0.9411, Loss: 0.0606\n",
      "Epoch   9 Batch   70/269 - Train Accuracy: 0.9397, Validation Accuracy: 0.9288, Loss: 0.0724\n",
      "Epoch   9 Batch   80/269 - Train Accuracy: 0.9336, Validation Accuracy: 0.9393, Loss: 0.0663\n",
      "Epoch   9 Batch   90/269 - Train Accuracy: 0.9247, Validation Accuracy: 0.9371, Loss: 0.0707\n",
      "Epoch   9 Batch  100/269 - Train Accuracy: 0.9298, Validation Accuracy: 0.9456, Loss: 0.0721\n",
      "Epoch   9 Batch  110/269 - Train Accuracy: 0.9411, Validation Accuracy: 0.9395, Loss: 0.0648\n",
      "Epoch   9 Batch  120/269 - Train Accuracy: 0.9341, Validation Accuracy: 0.9417, Loss: 0.0764\n",
      "Epoch   9 Batch  130/269 - Train Accuracy: 0.9469, Validation Accuracy: 0.9436, Loss: 0.0690\n",
      "Epoch   9 Batch  140/269 - Train Accuracy: 0.9365, Validation Accuracy: 0.9309, Loss: 0.0656\n",
      "Epoch   9 Batch  150/269 - Train Accuracy: 0.9376, Validation Accuracy: 0.9345, Loss: 0.0710\n",
      "Epoch   9 Batch  160/269 - Train Accuracy: 0.9302, Validation Accuracy: 0.9477, Loss: 0.0642\n",
      "Epoch   9 Batch  170/269 - Train Accuracy: 0.9250, Validation Accuracy: 0.9456, Loss: 0.0616\n",
      "Epoch   9 Batch  180/269 - Train Accuracy: 0.9473, Validation Accuracy: 0.9468, Loss: 0.0607\n",
      "Epoch   9 Batch  190/269 - Train Accuracy: 0.9424, Validation Accuracy: 0.9403, Loss: 0.0642\n",
      "Epoch   9 Batch  200/269 - Train Accuracy: 0.9380, Validation Accuracy: 0.9465, Loss: 0.0666\n",
      "Epoch   9 Batch  210/269 - Train Accuracy: 0.9254, Validation Accuracy: 0.9425, Loss: 0.0623\n",
      "Epoch   9 Batch  220/269 - Train Accuracy: 0.9425, Validation Accuracy: 0.9423, Loss: 0.0624\n",
      "Epoch   9 Batch  230/269 - Train Accuracy: 0.9433, Validation Accuracy: 0.9454, Loss: 0.0635\n",
      "Epoch   9 Batch  240/269 - Train Accuracy: 0.9524, Validation Accuracy: 0.9522, Loss: 0.0565\n",
      "Epoch   9 Batch  250/269 - Train Accuracy: 0.9390, Validation Accuracy: 0.9415, Loss: 0.0616\n",
      "Epoch   9 Batch  260/269 - Train Accuracy: 0.9451, Validation Accuracy: 0.9402, Loss: 0.0698\n",
      "Model Trained and Saved\n"
     ]
    }
   ],
   "source": [
    "\"\"\"\n",
    "DON'T MODIFY ANYTHING IN THIS CELL\n",
    "\"\"\"\n",
    "def get_accuracy(target, logits):\n",
    "    \"\"\"\n",
    "    Calculate accuracy\n",
    "    \"\"\"\n",
    "    max_seq = max(target.shape[1], logits.shape[1])\n",
    "    if max_seq - target.shape[1]:\n",
    "        target = np.pad(\n",
    "            target,\n",
    "            [(0,0),(0,max_seq - target.shape[1])],\n",
    "            'constant')\n",
    "    if max_seq - logits.shape[1]:\n",
    "        logits = np.pad(\n",
    "            logits,\n",
    "            [(0,0),(0,max_seq - logits.shape[1])],\n",
    "            'constant')\n",
    "\n",
    "    return np.mean(np.equal(target, logits))\n",
    "\n",
    "# Split data to training and validation sets\n",
    "train_source = source_int_text[batch_size:]\n",
    "train_target = target_int_text[batch_size:]\n",
    "valid_source = source_int_text[:batch_size]\n",
    "valid_target = target_int_text[:batch_size]\n",
    "(valid_sources_batch, valid_targets_batch, valid_sources_lengths, valid_targets_lengths ) = next(get_batches(valid_source,\n",
    "                                                                                                             valid_target,\n",
    "                                                                                                             batch_size,\n",
    "                                                                                                             source_vocab_to_int['<PAD>'],\n",
    "                                                                                                             target_vocab_to_int['<PAD>']))                                                                                                  \n",
    "with tf.Session(graph=train_graph) as sess:\n",
    "    sess.run(tf.global_variables_initializer())\n",
    "\n",
    "    for epoch_i in range(epochs):\n",
    "        for batch_i, (source_batch, target_batch, sources_lengths, targets_lengths) in enumerate(\n",
    "                get_batches(train_source, train_target, batch_size,\n",
    "                            source_vocab_to_int['<PAD>'],\n",
    "                            target_vocab_to_int['<PAD>'])):\n",
    "\n",
    "            _, loss = sess.run(\n",
    "                [train_op, cost],\n",
    "                {input_data: source_batch,\n",
    "                 targets: target_batch,\n",
    "                 lr: learning_rate,\n",
    "                 target_sequence_length: targets_lengths,\n",
    "                 source_sequence_length: sources_lengths,\n",
    "                 keep_prob: keep_probability})\n",
    "\n",
    "\n",
    "            if batch_i % display_step == 0 and batch_i > 0:\n",
    "\n",
    "\n",
    "                batch_train_logits = sess.run(\n",
    "                    inference_logits,\n",
    "                    {input_data: source_batch,\n",
    "                     source_sequence_length: sources_lengths,\n",
    "                     target_sequence_length: targets_lengths,\n",
    "                     keep_prob: 1.0})\n",
    "\n",
    "\n",
    "                batch_valid_logits = sess.run(\n",
    "                    inference_logits,\n",
    "                    {input_data: valid_sources_batch,\n",
    "                     source_sequence_length: valid_sources_lengths,\n",
    "                     target_sequence_length: valid_targets_lengths,\n",
    "                     keep_prob: 1.0})\n",
    "\n",
    "                train_acc = get_accuracy(target_batch, batch_train_logits)\n",
    "\n",
    "                valid_acc = get_accuracy(valid_targets_batch, batch_valid_logits)\n",
    "\n",
    "                print('Epoch {:>3} Batch {:>4}/{} - Train Accuracy: {:>6.4f}, Validation Accuracy: {:>6.4f}, Loss: {:>6.4f}'\n",
    "                      .format(epoch_i, batch_i, len(source_int_text) // batch_size, train_acc, valid_acc, loss))\n",
    "\n",
    "    # Save Model\n",
    "    saver = tf.train.Saver()\n",
    "    saver.save(sess, save_path)\n",
    "    print('Model Trained and Saved')"
   ]
  },
  {
   "cell_type": "markdown",
   "metadata": {
    "deletable": true,
    "editable": true
   },
   "source": [
    "### Save Parameters\n",
    "Save the `batch_size` and `save_path` parameters for inference."
   ]
  },
  {
   "cell_type": "code",
   "execution_count": 47,
   "metadata": {
    "collapsed": true,
    "deletable": true,
    "editable": true
   },
   "outputs": [],
   "source": [
    "\"\"\"\n",
    "DON'T MODIFY ANYTHING IN THIS CELL\n",
    "\"\"\"\n",
    "# Save parameters for checkpoint\n",
    "helper.save_params(save_path)"
   ]
  },
  {
   "cell_type": "markdown",
   "metadata": {
    "deletable": true,
    "editable": true
   },
   "source": [
    "# Checkpoint"
   ]
  },
  {
   "cell_type": "code",
   "execution_count": 48,
   "metadata": {
    "collapsed": true,
    "deletable": true,
    "editable": true
   },
   "outputs": [],
   "source": [
    "\"\"\"\n",
    "DON'T MODIFY ANYTHING IN THIS CELL\n",
    "\"\"\"\n",
    "import tensorflow as tf\n",
    "import numpy as np\n",
    "import helper\n",
    "import problem_unittests as tests\n",
    "\n",
    "_, (source_vocab_to_int, target_vocab_to_int), (source_int_to_vocab, target_int_to_vocab) = helper.load_preprocess()\n",
    "load_path = helper.load_params()"
   ]
  },
  {
   "cell_type": "markdown",
   "metadata": {
    "deletable": true,
    "editable": true
   },
   "source": [
    "## Sentence to Sequence\n",
    "To feed a sentence into the model for translation, you first need to preprocess it.  Implement the function `sentence_to_seq()` to preprocess new sentences.\n",
    "\n",
    "- Convert the sentence to lowercase\n",
    "- Convert words into ids using `vocab_to_int`\n",
    " - Convert words not in the vocabulary, to the `<UNK>` word id."
   ]
  },
  {
   "cell_type": "code",
   "execution_count": 25,
   "metadata": {
    "collapsed": false,
    "deletable": true,
    "editable": true
   },
   "outputs": [
    {
     "name": "stdout",
     "output_type": "stream",
     "text": [
      "Tests Passed\n"
     ]
    }
   ],
   "source": [
    "def sentence_to_seq(sentence, vocab_to_int):\n",
    "    \"\"\"\n",
    "    Convert a sentence to a sequence of ids\n",
    "    :param sentence: String\n",
    "    :param vocab_to_int: Dictionary to go from the words to an id\n",
    "    :return: List of word ids\n",
    "    \"\"\"\n",
    "    sentence = sentence.lower()\n",
    "    #print(sentence.split())\n",
    "    #print(vocab_to_int)\n",
    "    sentence_ids = [vocab_to_int[w] if w in vocab_to_int.keys() else vocab_to_int['<UNK>'] for w in sentence.split()]\n",
    "    return sentence_ids\n",
    "\n",
    "\n",
    "\"\"\"\n",
    "DON'T MODIFY ANYTHING IN THIS CELL THAT IS BELOW THIS LINE\n",
    "\"\"\"\n",
    "tests.test_sentence_to_seq(sentence_to_seq)"
   ]
  },
  {
   "cell_type": "markdown",
   "metadata": {
    "deletable": true,
    "editable": true
   },
   "source": [
    "## Translate\n",
    "This will translate `translate_sentence` from English to French."
   ]
  },
  {
   "cell_type": "code",
   "execution_count": 57,
   "metadata": {
    "collapsed": false,
    "deletable": true,
    "editable": true
   },
   "outputs": [
    {
     "name": "stdout",
     "output_type": "stream",
     "text": [
      "INFO:tensorflow:Restoring parameters from checkpoints/dev\n",
      "Input\n",
      "  Word Ids:      [61, 151, 203, 44, 119, 82, 127]\n",
      "  English Words: ['he', 'saw', 'a', 'old', 'yellow', 'truck', '.']\n",
      "\n",
      "Prediction\n",
      "  Word Ids:      [236, 172, 103, 340, 138, 48, 126, 147, 1]\n",
      "  French Words: il a vu une vieille voiture jaune . <EOS>\n"
     ]
    }
   ],
   "source": [
    "translate_sentence = 'he saw a old yellow truck .'\n",
    "\n",
    "\n",
    "\"\"\"\n",
    "DON'T MODIFY ANYTHING IN THIS CELL\n",
    "\"\"\"\n",
    "translate_sentence = sentence_to_seq(translate_sentence, source_vocab_to_int)\n",
    "\n",
    "loaded_graph = tf.Graph()\n",
    "with tf.Session(graph=loaded_graph) as sess:\n",
    "    # Load saved model\n",
    "    loader = tf.train.import_meta_graph(load_path + '.meta')\n",
    "    loader.restore(sess, load_path)\n",
    "\n",
    "    input_data = loaded_graph.get_tensor_by_name('input:0')\n",
    "    logits = loaded_graph.get_tensor_by_name('predictions:0')\n",
    "    target_sequence_length = loaded_graph.get_tensor_by_name('target_sequence_length:0')\n",
    "    source_sequence_length = loaded_graph.get_tensor_by_name('source_sequence_length:0')\n",
    "    keep_prob = loaded_graph.get_tensor_by_name('keep_prob:0')\n",
    "\n",
    "    translate_logits = sess.run(logits, {input_data: [translate_sentence]*batch_size,\n",
    "                                         target_sequence_length: [len(translate_sentence)*2]*batch_size,\n",
    "                                         source_sequence_length: [len(translate_sentence)]*batch_size,\n",
    "                                         keep_prob: 1.0})[0]\n",
    "\n",
    "print('Input')\n",
    "print('  Word Ids:      {}'.format([i for i in translate_sentence]))\n",
    "print('  English Words: {}'.format([source_int_to_vocab[i] for i in translate_sentence]))\n",
    "\n",
    "print('\\nPrediction')\n",
    "print('  Word Ids:      {}'.format([i for i in translate_logits]))\n",
    "print('  French Words: {}'.format(\" \".join([target_int_to_vocab[i] for i in translate_logits])))\n"
   ]
  },
  {
   "cell_type": "markdown",
   "metadata": {
    "deletable": true,
    "editable": true
   },
   "source": [
    "## Imperfect Translation\n",
    "You might notice that some sentences translate better than others.  Since the dataset you're using only has a vocabulary of 227 English words of the thousands that you use, you're only going to see good results using these words.  For this project, you don't need a perfect translation. However, if you want to create a better translation model, you'll need better data.\n",
    "\n",
    "You can train on the [WMT10 French-English corpus](http://www.statmt.org/wmt10/training-giga-fren.tar).  This dataset has more vocabulary and richer in topics discussed.  However, this will take you days to train, so make sure you've a GPU and the neural network is performing well on dataset we provided.  Just make sure you play with the WMT10 corpus after you've submitted this project.\n",
    "## Submitting This Project\n",
    "When submitting this project, make sure to run all the cells before saving the notebook. Save the notebook file as \"dlnd_language_translation.ipynb\" and save it as a HTML file under \"File\" -> \"Download as\". Include the \"helper.py\" and \"problem_unittests.py\" files in your submission."
   ]
  }
 ],
 "metadata": {
  "anaconda-cloud": {},
  "kernelspec": {
   "display_name": "Python 3",
   "language": "python",
   "name": "python3"
  },
  "language_info": {
   "codemirror_mode": {
    "name": "ipython",
    "version": 3
   },
   "file_extension": ".py",
   "mimetype": "text/x-python",
   "name": "python",
   "nbconvert_exporter": "python",
   "pygments_lexer": "ipython3",
   "version": "3.5.2"
  }
 },
 "nbformat": 4,
 "nbformat_minor": 1
}
